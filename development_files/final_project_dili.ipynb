{
 "cells": [
  {
   "cell_type": "markdown",
   "metadata": {},
   "source": [
    "# w261 Final Project - Clickthrough Rate Prediction\n"
   ]
  },
  {
   "cell_type": "markdown",
   "metadata": {},
   "source": [
    "[Your team number (from the spreadsheet)]   \n",
    "[Your team names]   \n",
    "Summer 2019, section [Your section numbers>]   "
   ]
  },
  {
   "cell_type": "markdown",
   "metadata": {},
   "source": [
    "## Table of Contents\n",
    "\n",
    "* __Section 1__ - Question Formulation\n",
    "* __Section 2__ - Algorithm Explanation\n",
    "* __Section 3__ - EDA & Challenges\n",
    "* __Section 4__ - Algorithm Implementation\n",
    "* __Section 5__ - Course Concepts"
   ]
  },
  {
   "cell_type": "markdown",
   "metadata": {},
   "source": [
    "# __Section 1__ - Question Formulation"
   ]
  },
  {
   "cell_type": "markdown",
   "metadata": {},
   "source": []
  },
  {
   "cell_type": "markdown",
   "metadata": {},
   "source": []
  },
  {
   "cell_type": "markdown",
   "metadata": {},
   "source": [
    "# __Section 2__ - Algorithm Explanation"
   ]
  },
  {
   "cell_type": "markdown",
   "metadata": {},
   "source": []
  },
  {
   "cell_type": "markdown",
   "metadata": {},
   "source": []
  },
  {
   "cell_type": "markdown",
   "metadata": {},
   "source": [
    "# __Section 3__ - EDA & Challenges"
   ]
  },
  {
   "cell_type": "markdown",
   "metadata": {},
   "source": []
  },
  {
   "cell_type": "markdown",
   "metadata": {},
   "source": []
  },
  {
   "cell_type": "markdown",
   "metadata": {},
   "source": [
    "# __Section 4__ - Algorithm Implementation"
   ]
  },
  {
   "cell_type": "markdown",
   "metadata": {},
   "source": []
  },
  {
   "cell_type": "markdown",
   "metadata": {},
   "source": []
  },
  {
   "cell_type": "markdown",
   "metadata": {},
   "source": [
    "# __Section 5__ - Course Concepts"
   ]
  },
  {
   "cell_type": "markdown",
   "metadata": {},
   "source": []
  },
  {
   "cell_type": "markdown",
   "metadata": {},
   "source": []
  },
  {
   "cell_type": "markdown",
   "metadata": {},
   "source": [
    "### Setup and Initiate Spark"
   ]
  },
  {
   "cell_type": "code",
   "execution_count": 188,
   "metadata": {},
   "outputs": [],
   "source": [
    "import re\n",
    "import ast\n",
    "import time\n",
    "import itertools\n",
    "import numpy as np\n",
    "import pandas as pd\n",
    "import matplotlib.pyplot as plt\n",
    "from pyspark.ml.feature import Imputer\n",
    "import math\n",
    "from pyspark.ml.feature import StandardScaler\n",
    "from pyspark.ml.linalg import Vectors\n",
    "from pyspark.mllib.linalg import Vector as MLLibVector, Vectors as MLLibVectors"
   ]
  },
  {
   "cell_type": "code",
   "execution_count": 2,
   "metadata": {},
   "outputs": [],
   "source": [
    "%reload_ext autoreload\n",
    "%autoreload 2\n",
    "%matplotlib inline"
   ]
  },
  {
   "cell_type": "code",
   "execution_count": 3,
   "metadata": {},
   "outputs": [],
   "source": [
    "# store path to notebook\n",
    "PWD = !pwd\n",
    "PWD = PWD[0]"
   ]
  },
  {
   "cell_type": "code",
   "execution_count": 4,
   "metadata": {},
   "outputs": [],
   "source": [
    "# start Spark Session (RUN THIS CELL AS IS)\n",
    "from pyspark.sql import SparkSession\n",
    "app_name = \"hw3_notebook\"\n",
    "master = \"local[*]\"\n",
    "spark = SparkSession\\\n",
    "        .builder\\\n",
    "        .appName(app_name)\\\n",
    "        .master(master)\\\n",
    "        .getOrCreate()\n",
    "sc = spark.sparkContext"
   ]
  },
  {
   "cell_type": "code",
   "execution_count": 5,
   "metadata": {},
   "outputs": [
    {
     "data": {
      "text/plain": [
       "[('spark.driver.port', '39433'),\n",
       " ('spark.app.id', 'local-1564879088366'),\n",
       " ('spark.app.name', 'hw3_notebook'),\n",
       " ('spark.rdd.compress', 'True'),\n",
       " ('spark.serializer.objectStreamReset', '100'),\n",
       " ('spark.master', 'local[*]'),\n",
       " ('spark.executor.id', 'driver'),\n",
       " ('spark.submit.deployMode', 'client'),\n",
       " ('spark.ui.showConsoleProgress', 'true'),\n",
       " ('spark.driver.host', 'docker.w261')]"
      ]
     },
     "execution_count": 5,
     "metadata": {},
     "output_type": "execute_result"
    }
   ],
   "source": [
    "# Spark configuration Information (RUN THIS CELL AS IS)\n",
    "sc.getConf().getAll()"
   ]
  },
  {
   "cell_type": "markdown",
   "metadata": {},
   "source": [
    "### Setup Path and read in raw data files"
   ]
  },
  {
   "cell_type": "code",
   "execution_count": 6,
   "metadata": {},
   "outputs": [],
   "source": [
    "raw_test = PWD + '/data/test.txt'\n",
    "raw_train = PWD + '/data/train.txt'"
   ]
  },
  {
   "cell_type": "code",
   "execution_count": 7,
   "metadata": {},
   "outputs": [],
   "source": [
    "rawTestRDD = sc.textFile(raw_test)\n",
    "rawTrainRDD = sc.textFile(raw_train)"
   ]
  },
  {
   "cell_type": "markdown",
   "metadata": {},
   "source": [
    "### Check Row Counts"
   ]
  },
  {
   "cell_type": "code",
   "execution_count": 8,
   "metadata": {},
   "outputs": [
    {
     "data": {
      "text/plain": [
       "6042135"
      ]
     },
     "execution_count": 8,
     "metadata": {},
     "output_type": "execute_result"
    }
   ],
   "source": [
    "rawTestRDD.count()"
   ]
  },
  {
   "cell_type": "code",
   "execution_count": 9,
   "metadata": {},
   "outputs": [
    {
     "data": {
      "text/plain": [
       "45840617"
      ]
     },
     "execution_count": 9,
     "metadata": {},
     "output_type": "execute_result"
    }
   ],
   "source": [
    "rawTrainRDD.count()"
   ]
  },
  {
   "cell_type": "markdown",
   "metadata": {},
   "source": [
    "### Split Training data into Train, Dev, Test subsets and Create Toy"
   ]
  },
  {
   "cell_type": "code",
   "execution_count": 8,
   "metadata": {},
   "outputs": [],
   "source": [
    "rtrainRDD, rdevRDD, rtestRDD = rawTrainRDD.randomSplit([0.8,0.1, 0.1], seed = 2018)"
   ]
  },
  {
   "cell_type": "code",
   "execution_count": 57,
   "metadata": {},
   "outputs": [],
   "source": [
    "#DO NOT RUN THIS CELL AGAIN\n",
    "#Writing Toy sample to file for easy access\n",
    "rtoy = rtrainRDD.takeSample(False, 100)\n",
    "\n",
    "with open(\"toy.txt\", \"w\") as file:\n",
    "    file.write(str(rtoy))"
   ]
  },
  {
   "cell_type": "markdown",
   "metadata": {},
   "source": [
    "### Parse Row Into Readable formats and running some tests"
   ]
  },
  {
   "cell_type": "code",
   "execution_count": 9,
   "metadata": {},
   "outputs": [],
   "source": [
    "def parse_raw_row(row):\n",
    "    '''\n",
    "    for each row in the raw data,  outputs the following tuple:\n",
    "        - (label, features_vector)\n",
    "        where features_vector is comma separated string of features\n",
    "        features with no value are replaced by empty string ''\n",
    "    '''\n",
    "    row_values = row.split('\\t')\n",
    "    new_values = [value if value != '' else \"''\" for value in row_values[1:]]\n",
    "    output_string = \",\".join(new_values)\n",
    "    return (row_values[0], output_string)"
   ]
  },
  {
   "cell_type": "code",
   "execution_count": 10,
   "metadata": {},
   "outputs": [
    {
     "data": {
      "text/plain": [
       "[('0',\n",
       "  \"'',-1,'','',23106,90,8,32,103,'',2,'','',68fd1e64,d833535f,b00d1501,d16679b9,25c83c98,fe6b92e5,e30c82b2,51d76abe,a73ee510,7471f41c,9bd51b96,e0d76380,18539b7f,b28479f6,a733d362,1203a270,e5ba7672,281769c2,'','',73d06dde,'',3a171ecb,aee52b6f,'',''\"),\n",
       " ('0',\n",
       "  \"'',17,4,1,11391,284,2,1,374,'',2,'',1,68fd1e64,38a947a1,'','',25c83c98,7e0ccccf,5ce4765a,0b153874,a73ee510,f0405fd0,c1dcf5cb,'',bccc0f27,07d13a8f,cfd71361,'',e5ba7672,8f6ce7c7,'','','',ad3062eb,32c7478e,'','',''\"),\n",
       " ('1',\n",
       "  \"'',41,5,1,8674,14,1,2,14,'',1,'',1,05db9164,a07503cc,5300bdf3,13508380,25c83c98,fbad5c96,05940d6c,0b153874,a73ee510,3b08e48b,59256bd8,0f52da65,679527fa,07d13a8f,77660bba,cdf08556,d4bb7bd8,912c7e21,55dd3565,b1252a9d,47869145,'',32c7478e,45ab94c8,445bbe3b,c84c4aec\"),\n",
       " ('1',\n",
       "  \"'',-1,'','',5762,1,1,0,0,'',1,'','',05db9164,2705da39,64e7c756,8bcf4b56,25c83c98,7e0ccccf,0dbf2675,0b153874,a73ee510,753998f6,88196a93,7b559283,1211c647,07d13a8f,74056b5a,6a473526,e5ba7672,66c3058a,'','',36697b7d,'',32c7478e,043ce596,'',''\"),\n",
       " ('1',\n",
       "  \"2,19,9,42,4,34,2,49,39,1,1,'',16,68fd1e64,38d50e09,337faecd,4bfdb1a0,25c83c98,fbad5c96,9b98e9fc,0b153874,a73ee510,441dd290,7f8ffe57,8413bdc0,46f42a63,b28479f6,42b3012c,4693efe3,e5ba7672,582152eb,21ddcdc9,5840adea,4489087f,ad3062eb,32c7478e,29383373,001f3601,4e7af834\")]"
      ]
     },
     "execution_count": 10,
     "metadata": {},
     "output_type": "execute_result"
    }
   ],
   "source": [
    "#Retrieving toy sample by reading\n",
    "rtoyRDD = ast.literal_eval(open(\"toy.txt\", \"r\").read())\n",
    "\n",
    "toyRDD = sc.parallelize(rtoyRDD).map(parse_raw_row).cache()\n",
    "\n",
    "#test parsing on toy \n",
    "toyRDD.take(5)"
   ]
  },
  {
   "cell_type": "code",
   "execution_count": 11,
   "metadata": {},
   "outputs": [
    {
     "data": {
      "text/plain": [
       "[('0', 75), ('1', 25)]"
      ]
     },
     "execution_count": 11,
     "metadata": {},
     "output_type": "execute_result"
    }
   ],
   "source": [
    "#checking that toy sample contains click rates that match training data\n",
    "toyRDD.map(lambda x: (x[0], 1)).reduceByKey(lambda x, y: x+y).collect()"
   ]
  },
  {
   "cell_type": "code",
   "execution_count": 12,
   "metadata": {},
   "outputs": [],
   "source": [
    "#parsing all data set\n",
    "\n",
    "trainRDD = rtrainRDD.map(parse_raw_row).cache()\n",
    "devRDD = rdevRDD.map(parse_raw_row).cache()\n",
    "testRDD = rtestRDD.map(parse_raw_row).cache()\n",
    "\n",
    "parsedTestRDD = rawTestRDD.map(parse_raw_row).cache()"
   ]
  },
  {
   "cell_type": "markdown",
   "metadata": {},
   "source": [
    "# Logistic Regression with Gradient Descent"
   ]
  },
  {
   "cell_type": "markdown",
   "metadata": {},
   "source": [
    "## Testing DF"
   ]
  },
  {
   "cell_type": "code",
   "execution_count": 178,
   "metadata": {},
   "outputs": [],
   "source": [
    "toyDF = sc.parallelize(rtoyRDD).map(lambda x: x.split('\\t')).toDF()"
   ]
  },
  {
   "cell_type": "code",
   "execution_count": 179,
   "metadata": {},
   "outputs": [
    {
     "name": "stdout",
     "output_type": "stream",
     "text": [
      "+---+---+----+---+---+------+---+---+---+---+---+---+---+---+--------+--------+--------+--------+--------+--------+--------+--------+--------+--------+--------+--------+--------+--------+--------+--------+--------+--------+--------+--------+--------+--------+--------+--------+--------+--------+\n",
      "| _1| _2|  _3| _4| _5|    _6| _7| _8| _9|_10|_11|_12|_13|_14|     _15|     _16|     _17|     _18|     _19|     _20|     _21|     _22|     _23|     _24|     _25|     _26|     _27|     _28|     _29|     _30|     _31|     _32|     _33|     _34|     _35|     _36|     _37|     _38|     _39|     _40|\n",
      "+---+---+----+---+---+------+---+---+---+---+---+---+---+---+--------+--------+--------+--------+--------+--------+--------+--------+--------+--------+--------+--------+--------+--------+--------+--------+--------+--------+--------+--------+--------+--------+--------+--------+--------+--------+\n",
      "|  0|   |  -1|   |   | 23106| 90|  8| 32|103|   |  2|   |   |68fd1e64|d833535f|b00d1501|d16679b9|25c83c98|fe6b92e5|e30c82b2|51d76abe|a73ee510|7471f41c|9bd51b96|e0d76380|18539b7f|b28479f6|a733d362|1203a270|e5ba7672|281769c2|        |        |73d06dde|        |3a171ecb|aee52b6f|        |        |\n",
      "|  0|   |  17|  4|  1| 11391|284|  2|  1|374|   |  2|   |  1|68fd1e64|38a947a1|        |        |25c83c98|7e0ccccf|5ce4765a|0b153874|a73ee510|f0405fd0|c1dcf5cb|        |bccc0f27|07d13a8f|cfd71361|        |e5ba7672|8f6ce7c7|        |        |        |ad3062eb|32c7478e|        |        |        |\n",
      "|  1|   |  41|  5|  1|  8674| 14|  1|  2| 14|   |  1|   |  1|05db9164|a07503cc|5300bdf3|13508380|25c83c98|fbad5c96|05940d6c|0b153874|a73ee510|3b08e48b|59256bd8|0f52da65|679527fa|07d13a8f|77660bba|cdf08556|d4bb7bd8|912c7e21|55dd3565|b1252a9d|47869145|        |32c7478e|45ab94c8|445bbe3b|c84c4aec|\n",
      "|  1|   |  -1|   |   |  5762|  1|  1|  0|  0|   |  1|   |   |05db9164|2705da39|64e7c756|8bcf4b56|25c83c98|7e0ccccf|0dbf2675|0b153874|a73ee510|753998f6|88196a93|7b559283|1211c647|07d13a8f|74056b5a|6a473526|e5ba7672|66c3058a|        |        |36697b7d|        |32c7478e|043ce596|        |        |\n",
      "|  1|  2|  19|  9| 42|     4| 34|  2| 49| 39|  1|  1|   | 16|68fd1e64|38d50e09|337faecd|4bfdb1a0|25c83c98|fbad5c96|9b98e9fc|0b153874|a73ee510|441dd290|7f8ffe57|8413bdc0|46f42a63|b28479f6|42b3012c|4693efe3|e5ba7672|582152eb|21ddcdc9|5840adea|4489087f|ad3062eb|32c7478e|29383373|001f3601|4e7af834|\n",
      "|  0|   |   1| 20| 36|  8998|   |  0| 38| 47|   |  0|   | 38|68fd1e64|f8c8e8f8|9727103c|6191c740|4cf72387|7e0ccccf|ae33f6b1|37e4aa92|a73ee510|fbbf2c95|f9e7c1e3|7fa9f32a|9416a599|1adce6ef|bd2c909f|8d8537ab|1e88c74f|d2f0bce2|21ddcdc9|5840adea|ce0b7461|        |32c7478e|7e429425|f55c04b6|cfd96da1|\n",
      "|  0|  0|   8|  1|   |  2111| 22| 91| 20|344|  0| 27|  1|   |05db9164|52e9ecfc|20009f96|73fec7fb|25c83c98|fbad5c96|407438c8|0b153874|a73ee510|935a36f0|755e4a50|57c08194|5978055e|b28479f6|e2dd9a77|054b386f|27c07bd6|1e42ba17|21ddcdc9|b1252a9d|0dd41d11|        |32c7478e|f9f7eb22|f0f449dd|a3a8e8f4|\n",
      "|  0|   |   3|  5|  1| 87474|   |  0|  1|  1|   |  0|   |  1|68fd1e64|287130e0|f742840f|ea124ac7|25c83c98|7e0ccccf|fb345e8b|0b153874|7cc72ec2|aa1b82d3|db5d89ed|a87782d6|21894a89|1adce6ef|d959e25d|23d5563e|07c540c4|53515e19|712d530c|5840adea|33fd2064|        |3a171ecb|a4b9e88f|ea9a246c|03219b28|\n",
      "|  1|   | 216|  8|  1| 13504|107|  7|  7| 44|   |  1|   |  1|5a9ed9b0|89ddfee8|1c58ad72|a0259c54|25c83c98|7e0ccccf|ad3508b1|0b153874|a73ee510|9825a6aa|ad757a5a|97d12238|93b18cb5|1adce6ef|34cce7d2|0bb5f122|e5ba7672|5bb2ec8e|34a10404|a458ea53|a2934994|ad3062eb|423fab69|c2c318f2|e8b83407|95bf1d7f|\n",
      "|  0|  1|  25|  4|  0|   472|  4|  2|  1|  2|  1|  2|   |  1|c6dce90e|92f101be|66dd24fa|7ee13201|43b19349|        |6de90931|0b153874|a73ee510|1d0ae71a|87fe3e10|fd51a4ae|3bd6c21d|07d13a8f|de877c2a|de4b3fec|3486227d|20157126|21ddcdc9|5840adea|0564b80d|        |32c7478e|5de222f3|001f3601|074bb89f|\n",
      "|  0|   |   1| 29|  0|413375|   |  0|  5| 39|   |  0|   |  2|68fd1e64|42016cda|20009f96|73fec7fb|25c83c98|7e0ccccf|6f441cf5|51d76abe|7cc72ec2|31990058|1054ae5c|57c08194|d7ce3abd|07d13a8f|ad062d55|054b386f|1e88c74f|aab53bcd|21ddcdc9|a458ea53|0dd41d11|ad3062eb|3a171ecb|f9f7eb22|cb079c2d|a3a8e8f4|\n",
      "|  0|129|   7|   |  3|  1025| 14|129| 39| 66|  1|  1|  0|  3|05db9164|95e2d337|fe20276c|f4a94940|25c83c98|7e0ccccf|e72c88ea|1f89b562|a73ee510|7effe9ee|f66047e5|e1f9f402|13c89cc4|b28479f6|17a3bcd8|4f6b4245|e5ba7672|7b06fafe|1d04f4a4|5840adea|2b8cc48d|ad3062eb|bcdee96c|7ce74ce1|2bf691b1|a6b317ca|\n",
      "|  0|  3|  71| 48|  8|  1307|126|  4| 41| 45|  0|  1|   |  8|5a9ed9b0|4f25e98b|b393df87|c3fecae9|25c83c98|13718bbd|2d7ba5c7|0b153874|a73ee510|907110ab|e52152c0|8d33fe00|e2824235|8ceecbc8|5525889d|0fd4fbad|07c540c4|9e4517be|3014a4b1|5840adea|572bdde8|        |3a171ecb|9fa3e01a|001f3601|d9bcfc08|\n",
      "|  0|  1| 641|  1|  0|     7|  0|  1|  0|  0|  1|  1|   |  0|05db9164|4f25e98b|17d102ae|0992fe8e|25c83c98|7e0ccccf|9eec359f|0b153874|a73ee510|2462946f|636405ac|f7e4edbb|31b42deb|b28479f6|8ab5b746|3aef9d4f|d4bb7bd8|7ef5affa|fd43442b|b1252a9d|7f8e7128|        |3a171ecb|be8cbc56|001f3601|eac68b2b|\n",
      "|  1|  2|   1|  1|  0|     1|  0|  2|  0|  0|  1|  1|   |  0|05db9164|1cfdf714|73cee255|d8434023|25c83c98|7e0ccccf|78dcd87f|0b153874|a73ee510|4f2c396f|8aa7f20a|81ddec14|706a14b0|b28479f6|d345b1a0|9a350238|07c540c4|e88ffc9d|712d530c|a458ea53|af10f4c0|ad3062eb|423fab69|1b06d1e6|cb079c2d|3a490508|\n",
      "|  0|   |1688|  4|  3| 36614|   |  0| 31|564|   |  0|  0|  3|5a9ed9b0|04e09220|71947b86|bf9e41b6|25c83c98|fe6b92e5|d5f62b87|0b153874|a73ee510|f71e5cf3|434d6c13|8529d3b4|7301027a|07d13a8f|cae64906|33a1f420|3486227d|e161d23a|        |        |f22e0924|        |55dd3565|ded4aac9|        |        |\n",
      "|  0|   |   0|  1|  1| 13489| 61|  6|  1| 55|   |  1|   |  1|05db9164|4f25e98b|3d095980|1e5e2162|25c83c98|6f6d9be8|36b21dc8|0b153874|a73ee510|05bd6522|0f1fa8b8|a1bdec28|e4e9ce3a|07d13a8f|5be89da3|b4ac091d|e5ba7672|bc5a0ff7|712d530c|a458ea53|2e246c86|        |32c7478e|471f55fb|001f3601|cb1956a3|\n",
      "|  0|  0|   2| 60|  4|  7295|   |   |  4|   |  0|   |   |  4|5bfa8ab5|4f25e98b|3022927c|1c514615|25c83c98|7e0ccccf|60be2adb|5b392875|a73ee510|393af595|8139d33e|ec92d049|b0ff1de2|07d13a8f|5be89da3|0868e666|07c540c4|bc5a0ff7|efa3470f|a458ea53|423f4178|c9d4222a|c7dc6720|83502252|001f3601|cddbd633|\n",
      "|  0|   |   7|  3| 22| 16911|266|  2| 16|244|   |  1|   | 22|05db9164|38d50e09|        |        |30903e74|7e0ccccf|26f5c8bf|0b153874|a73ee510|93aa528a|7c7199cb|        |9196db4a|1adce6ef|e2c18d5a|        |d4bb7bd8|582152eb|21ddcdc9|5840adea|        |        |c7dc6720|        |001f3601|56be3401|\n",
      "|  0|  0|   0|  4|  9| 11544|235| 28|  9|102|  0|  1|   |  9|05db9164|ae46a29d|f3d9a046|f922efad|4cf72387|fe6b92e5|ce4f7f55|c8ddd494|a73ee510|099b68bd|38f692a7|9bf4fa6a|6e5da64f|b28479f6|38dfb71f|01adbab4|e5ba7672|4b824efd|        |        |21c9516a|        |32c7478e|b34f3128|        |        |\n",
      "+---+---+----+---+---+------+---+---+---+---+---+---+---+---+--------+--------+--------+--------+--------+--------+--------+--------+--------+--------+--------+--------+--------+--------+--------+--------+--------+--------+--------+--------+--------+--------+--------+--------+--------+--------+\n",
      "only showing top 20 rows\n",
      "\n"
     ]
    }
   ],
   "source": [
    "toyDF.show()"
   ]
  },
  {
   "cell_type": "code",
   "execution_count": 180,
   "metadata": {},
   "outputs": [
    {
     "name": "stdout",
     "output_type": "stream",
     "text": [
      "+---+-----+------+----+----+--------+-----+-----+----+-----+----+----+----+----+\n",
      "| _1|   _2|    _3|  _4|  _5|      _6|   _7|   _8|  _9|  _10| _11| _12| _13| _14|\n",
      "+---+-----+------+----+----+--------+-----+-----+----+-----+----+----+----+----+\n",
      "|0.0| null|  -1.0|null|null| 23106.0| 90.0|  8.0|32.0|103.0|null| 2.0|null|null|\n",
      "|0.0| null|  17.0| 4.0| 1.0| 11391.0|284.0|  2.0| 1.0|374.0|null| 2.0|null| 1.0|\n",
      "|1.0| null|  41.0| 5.0| 1.0|  8674.0| 14.0|  1.0| 2.0| 14.0|null| 1.0|null| 1.0|\n",
      "|1.0| null|  -1.0|null|null|  5762.0|  1.0|  1.0| 0.0|  0.0|null| 1.0|null|null|\n",
      "|1.0|  2.0|  19.0| 9.0|42.0|     4.0| 34.0|  2.0|49.0| 39.0| 1.0| 1.0|null|16.0|\n",
      "|0.0| null|   1.0|20.0|36.0|  8998.0| null|  0.0|38.0| 47.0|null| 0.0|null|38.0|\n",
      "|0.0|  0.0|   8.0| 1.0|null|  2111.0| 22.0| 91.0|20.0|344.0| 0.0|27.0| 1.0|null|\n",
      "|0.0| null|   3.0| 5.0| 1.0| 87474.0| null|  0.0| 1.0|  1.0|null| 0.0|null| 1.0|\n",
      "|1.0| null| 216.0| 8.0| 1.0| 13504.0|107.0|  7.0| 7.0| 44.0|null| 1.0|null| 1.0|\n",
      "|0.0|  1.0|  25.0| 4.0| 0.0|   472.0|  4.0|  2.0| 1.0|  2.0| 1.0| 2.0|null| 1.0|\n",
      "|0.0| null|   1.0|29.0| 0.0|413375.0| null|  0.0| 5.0| 39.0|null| 0.0|null| 2.0|\n",
      "|0.0|129.0|   7.0|null| 3.0|  1025.0| 14.0|129.0|39.0| 66.0| 1.0| 1.0| 0.0| 3.0|\n",
      "|0.0|  3.0|  71.0|48.0| 8.0|  1307.0|126.0|  4.0|41.0| 45.0| 0.0| 1.0|null| 8.0|\n",
      "|0.0|  1.0| 641.0| 1.0| 0.0|     7.0|  0.0|  1.0| 0.0|  0.0| 1.0| 1.0|null| 0.0|\n",
      "|1.0|  2.0|   1.0| 1.0| 0.0|     1.0|  0.0|  2.0| 0.0|  0.0| 1.0| 1.0|null| 0.0|\n",
      "|0.0| null|1688.0| 4.0| 3.0| 36614.0| null|  0.0|31.0|564.0|null| 0.0| 0.0| 3.0|\n",
      "|0.0| null|   0.0| 1.0| 1.0| 13489.0| 61.0|  6.0| 1.0| 55.0|null| 1.0|null| 1.0|\n",
      "|0.0|  0.0|   2.0|60.0| 4.0|  7295.0| null| null| 4.0| null| 0.0|null|null| 4.0|\n",
      "|0.0| null|   7.0| 3.0|22.0| 16911.0|266.0|  2.0|16.0|244.0|null| 1.0|null|22.0|\n",
      "|0.0|  0.0|   0.0| 4.0| 9.0| 11544.0|235.0| 28.0| 9.0|102.0| 0.0| 1.0|null| 9.0|\n",
      "+---+-----+------+----+----+--------+-----+-----+----+-----+----+----+----+----+\n",
      "only showing top 20 rows\n",
      "\n"
     ]
    }
   ],
   "source": [
    "#extract only numeric values and transform from str to int\n",
    "toyDFNum = sc.parallelize(rtoyRDD)\\\n",
    "            .map(lambda x: x.split('\\t'))\\\n",
    "            .map(lambda x: x[:14])\\\n",
    "            .map(lambda x: list(map(lambda y: float(y) if y!='' else None, x)))\\\n",
    "            .toDF()\n",
    "toyDFNum.show()"
   ]
  },
  {
   "cell_type": "code",
   "execution_count": 181,
   "metadata": {},
   "outputs": [],
   "source": [
    "# use average imputer for null values\n",
    "\n",
    "def imputeNumeric(numeric_DF):\n",
    "    '''\n",
    "    takes a spark df with continuous numeric columns\n",
    "    outputs a spark df where all null values are replaced with the column average\n",
    "    \n",
    "    the first column, which is the outcome values, are preserved\n",
    "    '''\n",
    "    outputColumns=[\"{}_imputed\".format(c) for c in numeric_DF.columns[1:]]\n",
    "    \n",
    "    imputer = Imputer(\n",
    "        inputCols=numeric_DF.columns[1:], \n",
    "        outputCols=[\"{}_imputed\".format(c) for c in numeric_DF.columns[1:]]\n",
    "    )\n",
    "\n",
    "    model = imputer.fit(numeric_DF)\n",
    "\n",
    "    imputedDF = model.transform(numeric_DF).select(['_1']+outputColumns)\n",
    "\n",
    "    return imputedDF"
   ]
  },
  {
   "cell_type": "code",
   "execution_count": 182,
   "metadata": {},
   "outputs": [
    {
     "name": "stdout",
     "output_type": "stream",
     "text": [
      "+---+-----------------+----------+----------+----------------+----------+------------------+----------+----------+------------------+------------------+------------------+------------------+-----------------+\n",
      "| _1|       _2_imputed|_3_imputed|_4_imputed|      _5_imputed|_6_imputed|        _7_imputed|_8_imputed|_9_imputed|       _10_imputed|       _11_imputed|       _12_imputed|       _13_imputed|      _14_imputed|\n",
      "+---+-----------------+----------+----------+----------------+----------+------------------+----------+----------+------------------+------------------+------------------+------------------+-----------------+\n",
      "|0.0|6.244897959183674|      -1.0|    16.375|8.30379746835443|   23106.0|              90.0|       8.0|      32.0|             103.0|0.6122448979591837|               2.0|0.5217391304347826|8.430379746835444|\n",
      "|0.0|6.244897959183674|      17.0|       4.0|             1.0|   11391.0|             284.0|       2.0|       1.0|             374.0|0.6122448979591837|               2.0|0.5217391304347826|              1.0|\n",
      "|1.0|6.244897959183674|      41.0|       5.0|             1.0|    8674.0|              14.0|       1.0|       2.0|              14.0|0.6122448979591837|               1.0|0.5217391304347826|              1.0|\n",
      "|1.0|6.244897959183674|      -1.0|    16.375|8.30379746835443|    5762.0|               1.0|       1.0|       0.0|               0.0|0.6122448979591837|               1.0|0.5217391304347826|8.430379746835444|\n",
      "|1.0|              2.0|      19.0|       9.0|            42.0|       4.0|              34.0|       2.0|      49.0|              39.0|               1.0|               1.0|0.5217391304347826|             16.0|\n",
      "|0.0|6.244897959183674|       1.0|      20.0|            36.0|    8998.0|131.04166666666666|       0.0|      38.0|              47.0|0.6122448979591837|               0.0|0.5217391304347826|             38.0|\n",
      "|0.0|              0.0|       8.0|       1.0|8.30379746835443|    2111.0|              22.0|      91.0|      20.0|             344.0|               0.0|              27.0|               1.0|8.430379746835444|\n",
      "|0.0|6.244897959183674|       3.0|       5.0|             1.0|   87474.0|131.04166666666666|       0.0|       1.0|               1.0|0.6122448979591837|               0.0|0.5217391304347826|              1.0|\n",
      "|1.0|6.244897959183674|     216.0|       8.0|             1.0|   13504.0|             107.0|       7.0|       7.0|              44.0|0.6122448979591837|               1.0|0.5217391304347826|              1.0|\n",
      "|0.0|              1.0|      25.0|       4.0|             0.0|     472.0|               4.0|       2.0|       1.0|               2.0|               1.0|               2.0|0.5217391304347826|              1.0|\n",
      "|0.0|6.244897959183674|       1.0|      29.0|             0.0|  413375.0|131.04166666666666|       0.0|       5.0|              39.0|0.6122448979591837|               0.0|0.5217391304347826|              2.0|\n",
      "|0.0|            129.0|       7.0|    16.375|             3.0|    1025.0|              14.0|     129.0|      39.0|              66.0|               1.0|               1.0|               0.0|              3.0|\n",
      "|0.0|              3.0|      71.0|      48.0|             8.0|    1307.0|             126.0|       4.0|      41.0|              45.0|               0.0|               1.0|0.5217391304347826|              8.0|\n",
      "|0.0|              1.0|     641.0|       1.0|             0.0|       7.0|               0.0|       1.0|       0.0|               0.0|               1.0|               1.0|0.5217391304347826|              0.0|\n",
      "|1.0|              2.0|       1.0|       1.0|             0.0|       1.0|               0.0|       2.0|       0.0|               0.0|               1.0|               1.0|0.5217391304347826|              0.0|\n",
      "|0.0|6.244897959183674|    1688.0|       4.0|             3.0|   36614.0|131.04166666666666|       0.0|      31.0|             564.0|0.6122448979591837|               0.0|               0.0|              3.0|\n",
      "|0.0|6.244897959183674|       0.0|       1.0|             1.0|   13489.0|              61.0|       6.0|       1.0|              55.0|0.6122448979591837|               1.0|0.5217391304347826|              1.0|\n",
      "|0.0|              0.0|       2.0|      60.0|             4.0|    7295.0|131.04166666666666|  12.46875|       4.0|106.92708333333333|               0.0|2.0729166666666665|0.5217391304347826|              4.0|\n",
      "|0.0|6.244897959183674|       7.0|       3.0|            22.0|   16911.0|             266.0|       2.0|      16.0|             244.0|0.6122448979591837|               1.0|0.5217391304347826|             22.0|\n",
      "|0.0|              0.0|       0.0|       4.0|             9.0|   11544.0|             235.0|      28.0|       9.0|             102.0|               0.0|               1.0|0.5217391304347826|              9.0|\n",
      "+---+-----------------+----------+----------+----------------+----------+------------------+----------+----------+------------------+------------------+------------------+------------------+-----------------+\n",
      "only showing top 20 rows\n",
      "\n"
     ]
    }
   ],
   "source": [
    "imputedToyDF = imputeNumeric(toyDFNum)\n",
    "imputedToyDF.show()"
   ]
  },
  {
   "cell_type": "code",
   "execution_count": 183,
   "metadata": {},
   "outputs": [],
   "source": [
    "def scaleFeatures(imputedDF):\n",
    "    '''\n",
    "    inputs imputed data frame with no null values and continuous features\n",
    "    transforms the data frame into 2 column data frame with first column as label and second column as dense vector of features\n",
    "    scales all features using the StandardScalar\n",
    "    returns 2 column dataframe with scaled features\n",
    "    '''\n",
    "    \n",
    "    transformedImputedDF = imputedDF.rdd.map(lambda x: (x[0], Vectors.dense(x[1:]))).toDF(['label', 'x'])\n",
    "    \n",
    "    scaler = StandardScaler(inputCol=\"x\", \n",
    "                        outputCol=\"features\",\n",
    "                        withStd=True, withMean=True)\n",
    "\n",
    "    scalerModel = scaler.fit(transformedImputedDF)\n",
    "    scaledDF = scalerModel.transform(transformedImputedDF).select(['label', 'features'])\n",
    "    \n",
    "    return scaledDF"
   ]
  },
  {
   "cell_type": "code",
   "execution_count": 184,
   "metadata": {},
   "outputs": [
    {
     "name": "stdout",
     "output_type": "stream",
     "text": [
      "+-----+-----------------------------------------------------------------------------------------------------------------------------------------------------------------------------------------------------------------------+\n",
      "|label|features                                                                                                                                                                                                               |\n",
      "+-----+-----------------------------------------------------------------------------------------------------------------------------------------------------------------------------------------------------------------------+\n",
      "|0.0  |[0.0,-0.3111729172762192,0.0,-1.7866088267741792E-16,-0.059208449719059045,-0.25040274650358685,-0.15931121113653807,1.3524026880502105,-0.023242706161846757,0.0,-0.018112398023369714,0.0,0.0]                       |\n",
      "|0.0  |[0.0,-0.2706409503395961,-0.5317462824228277,-0.7345950282342292,-0.15462310942359733,0.9332268857001709,-0.37321157853664505,-0.8300274696570525,1.5806889742270225,0.0,-0.018112398023369714,0.0,-0.7517694504369045]|\n",
      "+-----+-----------------------------------------------------------------------------------------------------------------------------------------------------------------------------------------------------------------------+\n",
      "only showing top 2 rows\n",
      "\n"
     ]
    }
   ],
   "source": [
    "#normalize\n",
    "scaledToyDF = scaleFeatures(imputedToyDF)\n",
    "scaledToyDF.show(2, False)"
   ]
  },
  {
   "cell_type": "markdown",
   "metadata": {},
   "source": [
    "# Homegrown Gradient Descent"
   ]
  },
  {
   "cell_type": "code",
   "execution_count": 303,
   "metadata": {},
   "outputs": [],
   "source": [
    "def LRLoss_Standard(dataRDD, W):\n",
    "    augmentedData = dataRDD.map(lambda x: (x[0], np.append([1.0], x[1]))).cache()\n",
    "    \n",
    "    loss = augmentedData.map(lambda x: math.log(1+math.exp(-x[0]*np.dot(W, x[1]))))\\\n",
    "                        .reduce(lambda x,y: x + y)\n",
    "    return loss\n",
    "\n",
    "def GDUpdate_Standard(dataRDD, W, learningRate = 0.1):\n",
    "    \n",
    "    augmentedData = dataRDD.map(lambda x: (x[0], np.append([1.0], x[1]))).cache()\n",
    "    \n",
    "    new_model = None\n",
    "    \n",
    "    grad = augmentedData.map(lambda x: -x[0]*(1-1/(1+math.exp(-x[0]*np.dot(W, x[1]))))*x[1])\\\n",
    "                            .reduce(lambda x,y: x + y)\n",
    "    new_model = W-learningRate*grad\n",
    "    \n",
    "    return new_model\n",
    "\n",
    "def LRLoss_Modified(dataRDD, W):\n",
    "    augmentedData = dataRDD.map(lambda x: (x[0], np.append([1.0], x[1]))).cache()\n",
    "    \n",
    "    loss = augmentedData.map(lambda x: math.log(1+math.exp(-np.dot(W, x[1]))) - (1-x[0])*math.log(math.exp(-np.dot(W, x[1]))/(1+math.exp(-np.dot(W, x[1])))))\\\n",
    "                        .sum()\n",
    "    return loss\n",
    "\n",
    "def GDUpdate_Modified(dataRDD, W, learningRate = 0.1):\n",
    "    augmentedData = dataRDD.map(lambda x: (x[0], np.append([1.0], x[1]))).cache()\n",
    "    \n",
    "    new_model = None\n",
    "    \n",
    "    grad = augmentedData.map(lambda x: x[0]*(1/(1+math.exp(-np.dot(W, x[1])))-1)*x[1])\\\n",
    "                            .reduce(lambda x,y: x + y)\n",
    "    new_model = W-learningRate*grad\n",
    "    \n",
    "    return new_model"
   ]
  },
  {
   "cell_type": "code",
   "execution_count": 307,
   "metadata": {},
   "outputs": [
    {
     "data": {
      "text/plain": [
       "[(-1.0,\n",
       "  array([ 0.00000000e+00, -3.11172917e-01,  0.00000000e+00, -1.78660883e-16,\n",
       "         -5.92084497e-02, -2.50402747e-01, -1.59311211e-01,  1.35240269e+00,\n",
       "         -2.32427062e-02,  0.00000000e+00, -1.81123980e-02,  0.00000000e+00,\n",
       "          0.00000000e+00])),\n",
       " (-1.0, array([ 0.        , -0.27064095, -0.53174628, -0.73459503, -0.15462311,\n",
       "          0.93322689, -0.37321158, -0.83002747,  1.58068897,  0.        ,\n",
       "         -0.0181124 ,  0.        , -0.75176945])),\n",
       " (1.0, array([ 0.        , -0.21659833, -0.48877689, -0.73459503, -0.17675214,\n",
       "         -0.71409271, -0.40886164, -0.7596265 , -0.54999518,  0.        ,\n",
       "         -0.266511  ,  0.        , -0.75176945])),\n",
       " (1.0,\n",
       "  array([ 0.00000000e+00, -3.11172917e-01,  0.00000000e+00, -1.78660883e-16,\n",
       "         -2.00469385e-01, -7.93408093e-01, -4.08861640e-01, -9.00428442e-01,\n",
       "         -6.32855116e-01,  0.00000000e+00, -2.66510999e-01,  0.00000000e+00,\n",
       "          0.00000000e+00])),\n",
       " (1.0, array([-0.29701808, -0.2661374 , -0.3168993 ,  3.38906753, -0.24736632,\n",
       "         -0.59206903, -0.37321158,  2.54921923, -0.402031  ,  0.87073424,\n",
       "         -0.266511  ,  0.        ,  0.76585712]))]"
      ]
     },
     "execution_count": 307,
     "metadata": {},
     "output_type": "execute_result"
    }
   ],
   "source": [
    "#turn scaledToyDF to rdd:\n",
    "\n",
    "scaledToyRDD = scaledToyDF.rdd.map(lambda x: (2*x[0]-1, np.array(x[1])))\n",
    "scaledToyRDD.take(5)"
   ]
  },
  {
   "cell_type": "code",
   "execution_count": 269,
   "metadata": {},
   "outputs": [],
   "source": [
    "def GradientDescent(trainRDD, wInit, nSteps = 20, \n",
    "                    learningRate = 0.1, verbose = False):\n",
    "    \"\"\"\n",
    "    Perform nSteps iterations of OLS gradient descent and \n",
    "    track loss on a test and train set. Return lists of\n",
    "    test/train loss and the models themselves.\n",
    "    \"\"\"\n",
    "    # initialize lists to track model performance\n",
    "    train_history, test_history, model_history = [], [], []\n",
    "    \n",
    "    # perform n updates & compute test and train loss after each\n",
    "    model = wInit\n",
    "    for idx in range(nSteps): \n",
    "        \n",
    "        ############## YOUR CODE HERE #############\n",
    "        model = GDUpdate_Standard(trainRDD, model,learningRate)\n",
    "        training_loss = LRLoss_Standard(trainRDD, model)\n",
    "        #test_loss = LRLoss_Standard(testRDD, model)\n",
    "        ############## (END) YOUR CODE #############\n",
    "        \n",
    "        # keep track of test/train loss for plotting\n",
    "        train_history.append(training_loss)\n",
    "        #test_history.append(test_loss)\n",
    "        model_history.append(model)\n",
    "        \n",
    "        # console output if desired\n",
    "        if verbose:\n",
    "            print(\"----------\")\n",
    "            print(f\"STEP: {idx+1}\")\n",
    "            print(f\"training loss: {training_loss}\")\n",
    "            print(f\"test loss: {test_loss}\")\n",
    "            print(f\"Model: {[round(w,3) for w in model]}\")\n",
    "    return train_history, model_history\n",
    "\n",
    "def GradientDescent_Modified(trainRDD, wInit, nSteps = 20, \n",
    "                    learningRate = 0.1, verbose = False):\n",
    "    \"\"\"\n",
    "    Perform nSteps iterations of OLS gradient descent and \n",
    "    track loss on a test and train set. Return lists of\n",
    "    test/train loss and the models themselves.\n",
    "    \"\"\"\n",
    "    # initialize lists to track model performance\n",
    "    train_history, test_history, model_history = [], [], []\n",
    "    \n",
    "    # perform n updates & compute test and train loss after each\n",
    "    model = wInit\n",
    "    for idx in range(nSteps): \n",
    "        \n",
    "        ############## YOUR CODE HERE #############\n",
    "        model = GDUpdate_Modified(trainRDD, model)\n",
    "        training_loss = LRLoss_Modified(trainRDD, model)\n",
    "        #test_loss = LRLoss_Standard(testRDD, model)\n",
    "        ############## (END) YOUR CODE #############\n",
    "        \n",
    "        # keep track of test/train loss for plotting\n",
    "        train_history.append(training_loss)\n",
    "        #test_history.append(test_loss)\n",
    "        model_history.append(model)\n",
    "        \n",
    "        # console output if desired\n",
    "        if verbose:\n",
    "            print(\"----------\")\n",
    "            print(f\"STEP: {idx+1}\")\n",
    "            print(f\"training loss: {training_loss}\")\n",
    "            print(f\"test loss: {test_loss}\")\n",
    "            print(f\"Model: {[round(w,3) for w in model]}\")\n",
    "    return train_history, model_history"
   ]
  },
  {
   "cell_type": "code",
   "execution_count": 309,
   "metadata": {},
   "outputs": [],
   "source": [
    "def plotErrorCurves(trainLoss1,trainLoss2, title = None):\n",
    "    \"\"\"\n",
    "    Helper function for plotting.\n",
    "    Args: trainLoss, testLoss\n",
    "    \"\"\"\n",
    "    fig, ax = plt.subplots(1,1,figsize = (16,8))\n",
    "    x = list(range(len(trainLoss1)))[1:]\n",
    "    ax.plot(x, trainLoss1[1:], 'k--', label='Standard Loss')\n",
    "    #ax.plot(x, trainLoss2[1:], 'r--', label='Modified Loss')\n",
    "    ax.legend(loc='upper right', fontsize='x-large')\n",
    "    plt.xlabel('Number of Iterations')\n",
    "    plt.ylabel('Log Loss')\n",
    "    if title:\n",
    "        plt.title(title)\n",
    "    plt.show()"
   ]
  },
  {
   "cell_type": "code",
   "execution_count": 318,
   "metadata": {},
   "outputs": [
    {
     "name": "stdout",
     "output_type": "stream",
     "text": [
      "\n",
      "... trained 150 iterations in 77.85095500946045 seconds\n"
     ]
    }
   ],
   "source": [
    "wInit = np.array([0.25, 0, 0, 0, 0, 0, 0, 0, 0, 0, 0, 0, 0, 0])\n",
    "start = time.time()\n",
    "LogLossToy, models = GradientDescent(scaledToyRDD, wInit, nSteps = 150, learningRate = 0.05)\n",
    "print(f\"\\n... trained {len(models)} iterations in {time.time() - start} seconds\")"
   ]
  },
  {
   "cell_type": "code",
   "execution_count": 304,
   "metadata": {},
   "outputs": [
    {
     "name": "stdout",
     "output_type": "stream",
     "text": [
      "\n",
      "... trained 100 iterations in 56.73459577560425 seconds\n"
     ]
    }
   ],
   "source": [
    "wInit = np.array([0.25, 0, 0, 0, 0, 0, 0, 0, 0, 0, 0, 0, 0, 0])\n",
    "start = time.time()\n",
    "LogLossToy_Mod, models_mod = GradientDescent_Modified(scaledToyRDD, wInit, nSteps = 100, learningRate = 0.1)\n",
    "print(f\"\\n... trained {len(models)} iterations in {time.time() - start} seconds\")"
   ]
  },
  {
   "cell_type": "code",
   "execution_count": 319,
   "metadata": {},
   "outputs": [
    {
     "data": {
      "image/png": "[encoded data removed]",
      "text/plain": [
       "<Figure size 1152x576 with 1 Axes>"
      ]
     },
     "metadata": {
      "needs_background": "light"
     },
     "output_type": "display_data"
    }
   ],
   "source": [
    "plotErrorCurves(LogLossToy, LogLossToy_Mod, title = 'Logistic Regression Loss Modified' )"
   ]
  },
  {
   "cell_type": "code",
   "execution_count": 293,
   "metadata": {},
   "outputs": [
    {
     "data": {
      "text/plain": [
       "52.01184975465333"
      ]
     },
     "execution_count": 293,
     "metadata": {},
     "output_type": "execute_result"
    }
   ],
   "source": [
    "LRLoss_Standard(scaledToyRDD, models[99])"
   ]
  },
  {
   "cell_type": "code",
   "execution_count": 300,
   "metadata": {},
   "outputs": [
    {
     "data": {
      "image/png": "[encoded data removed]",
      "text/plain": [
       "<Figure size 1152x576 with 1 Axes>"
      ]
     },
     "metadata": {
      "needs_background": "light"
     },
     "output_type": "display_data"
    }
   ],
   "source": [
    "plotErrorCurves(LogLossToy, LogLossToy_Mod, title = 'Logistic Regression Loss Modified' )"
   ]
  },
  {
   "cell_type": "code",
   "execution_count": 254,
   "metadata": {},
   "outputs": [
    {
     "data": {
      "image/png": "[encoded data removed]",
      "text/plain": [
       "<Figure size 1152x576 with 1 Axes>"
      ]
     },
     "metadata": {
      "needs_background": "light"
     },
     "output_type": "display_data"
    }
   ],
   "source": [
    "plotErrorCurves(LogLossToy, LogLossToy_Mod, title = 'Logistic Regression Loss Modified' )"
   ]
  },
  {
   "cell_type": "code",
   "execution_count": 320,
   "metadata": {},
   "outputs": [
    {
     "data": {
      "text/plain": [
       "array([-2.25508078, -0.14161326, -0.91567531, -0.50779671, -0.24482655,\n",
       "       -2.51212134,  0.17727569, -1.2172626 ,  0.14439694, -0.87176552,\n",
       "        0.5916407 ,  1.20129834, -2.84275989,  0.36608786])"
      ]
     },
     "execution_count": 320,
     "metadata": {},
     "output_type": "execute_result"
    }
   ],
   "source": [
    "models[149]"
   ]
  },
  {
   "cell_type": "code",
   "execution_count": 256,
   "metadata": {},
   "outputs": [
    {
     "data": {
      "text/plain": [
       "array([ 4.69010892, -0.59402971, -0.81017231, -0.79547439,  0.00650319,\n",
       "       -0.93216729, -0.11522305, -0.37540178, -0.05776751, -0.78764846,\n",
       "        0.45502624,  0.40446967, -0.96276212,  0.25379272])"
      ]
     },
     "execution_count": 256,
     "metadata": {},
     "output_type": "execute_result"
    }
   ],
   "source": [
    "models_mod[99]"
   ]
  },
  {
   "cell_type": "markdown",
   "metadata": {},
   "source": [
    "# TESTING MLLIB"
   ]
  },
  {
   "cell_type": "code",
   "execution_count": 321,
   "metadata": {},
   "outputs": [
    {
     "name": "stdout",
     "output_type": "stream",
     "text": [
      "MLLib Training Error = 0.38\n",
      "Gradient Descent Training Error = 0.17\n"
     ]
    }
   ],
   "source": [
    "from pyspark.mllib.classification import LogisticRegressionWithLBFGS, LogisticRegressionModel\n",
    "from pyspark.mllib.regression import LabeledPoint\n",
    "\n",
    "# Load and parse the data\n",
    "def parsePoint(line):\n",
    "    values = [float(x) for x in line.split(' ')]\n",
    "    return LabeledPoint(values[0], values[1:])\n",
    "\n",
    "toyData = scaledToyDF.rdd.map(lambda x: LabeledPoint(x[0], MLLibVectors.dense(x[1].toArray())))\n",
    "\n",
    "data = sc.textFile(\"sample_svm_data.txt\")\n",
    "parsedData = data.map(parsePoint)\n",
    "\n",
    "# Build the model\n",
    "modeltest = LogisticRegressionWithLBFGS.train(toyData)\n",
    "\n",
    "def predictionLabel(x, model):\n",
    "    prob = 1/(1+math.exp(-np.dot(model, x)))\n",
    "    if prob > 0.5:\n",
    "        return [1, prob]\n",
    "    else:\n",
    "        return [-1, prob]\n",
    "    \n",
    "augmentedData = scaledToyRDD.map(lambda x: (x[0], np.append([1.0], x[1]))).cache()\n",
    "\n",
    "labelsAndPredsMLLib = toyData.map(lambda p: (p.label, modeltest.predict(p.features)))\n",
    "labelsAndPredsGD = augmentedData.map(lambda x: (x[0], predictionLabel(x[1], models[99])))\n",
    "\n",
    "MLLibtrainErr = labelsAndPredsMLLib.filter(lambda lp: lp[0] != lp[1]).count() / float(toyData.count())\n",
    "\n",
    "GDtrainErr = labelsAndPredsGD.filter(lambda lp: lp[0] != lp[1][0]).count() / float(augmentedData.count())\n",
    "print(\"MLLib Training Error = \" + str(MLLibtrainErr))\n",
    "print(\"Gradient Descent Training Error = \" + str(GDtrainErr))"
   ]
  },
  {
   "cell_type": "code",
   "execution_count": 205,
   "metadata": {},
   "outputs": [
    {
     "data": {
      "text/plain": [
       "[(0.0, 1),\n",
       " (0.0, 0),\n",
       " (1.0, 1),\n",
       " (1.0, 1),\n",
       " (1.0, 1),\n",
       " (0.0, 1),\n",
       " (0.0, 1),\n",
       " (0.0, 0),\n",
       " (1.0, 0),\n",
       " (0.0, 1),\n",
       " (0.0, 0),\n",
       " (0.0, 0),\n",
       " (0.0, 0),\n",
       " (0.0, 1),\n",
       " (1.0, 1),\n",
       " (0.0, 0),\n",
       " (0.0, 1),\n",
       " (0.0, 0),\n",
       " (0.0, 1),\n",
       " (0.0, 0),\n",
       " (0.0, 0),\n",
       " (0.0, 1),\n",
       " (1.0, 1),\n",
       " (1.0, 1),\n",
       " (0.0, 0),\n",
       " (0.0, 0),\n",
       " (0.0, 0),\n",
       " (0.0, 1),\n",
       " (0.0, 1),\n",
       " (0.0, 0),\n",
       " (1.0, 1),\n",
       " (0.0, 1),\n",
       " (0.0, 1),\n",
       " (0.0, 1),\n",
       " (0.0, 0),\n",
       " (0.0, 0),\n",
       " (1.0, 1),\n",
       " (1.0, 1),\n",
       " (0.0, 1),\n",
       " (0.0, 1),\n",
       " (1.0, 0),\n",
       " (0.0, 0),\n",
       " (0.0, 1),\n",
       " (0.0, 0),\n",
       " (0.0, 1),\n",
       " (0.0, 1),\n",
       " (1.0, 1),\n",
       " (0.0, 0),\n",
       " (1.0, 0),\n",
       " (0.0, 0),\n",
       " (0.0, 1),\n",
       " (0.0, 1),\n",
       " (0.0, 0),\n",
       " (1.0, 1),\n",
       " (1.0, 1),\n",
       " (1.0, 1),\n",
       " (0.0, 1),\n",
       " (0.0, 0),\n",
       " (0.0, 0),\n",
       " (1.0, 1),\n",
       " (1.0, 1),\n",
       " (0.0, 0),\n",
       " (0.0, 0),\n",
       " (1.0, 1),\n",
       " (0.0, 1),\n",
       " (1.0, 0),\n",
       " (0.0, 1),\n",
       " (0.0, 0),\n",
       " (0.0, 0),\n",
       " (0.0, 1),\n",
       " (0.0, 1),\n",
       " (0.0, 0),\n",
       " (0.0, 0),\n",
       " (1.0, 1),\n",
       " (0.0, 1),\n",
       " (0.0, 0),\n",
       " (0.0, 1),\n",
       " (1.0, 1),\n",
       " (0.0, 0),\n",
       " (0.0, 0),\n",
       " (0.0, 0),\n",
       " (1.0, 1),\n",
       " (0.0, 1),\n",
       " (0.0, 0),\n",
       " (0.0, 1),\n",
       " (0.0, 0),\n",
       " (1.0, 0),\n",
       " (0.0, 1),\n",
       " (0.0, 0),\n",
       " (0.0, 0),\n",
       " (0.0, 0),\n",
       " (0.0, 1),\n",
       " (0.0, 1),\n",
       " (0.0, 0),\n",
       " (0.0, 0),\n",
       " (0.0, 0),\n",
       " (0.0, 1),\n",
       " (0.0, 0),\n",
       " (0.0, 0),\n",
       " (1.0, 1)]"
      ]
     },
     "execution_count": 205,
     "metadata": {},
     "output_type": "execute_result"
    }
   ],
   "source": [
    "labelsAndPredsMLLib.collect()"
   ]
  },
  {
   "cell_type": "code",
   "execution_count": 317,
   "metadata": {},
   "outputs": [
    {
     "data": {
      "text/plain": [
       "[(-1.0, [-1, 0.03766711515495237]),\n",
       " (-1.0, [-1, 0.12381294989999747]),\n",
       " (1.0, [1, 0.676641691519491]),\n",
       " (1.0, [-1, 0.3801417463179315]),\n",
       " (1.0, [-1, 0.0016234868529925884]),\n",
       " (-1.0, [-1, 0.0011693856100544458]),\n",
       " (-1.0, [-1, 0.016614557860088676]),\n",
       " (-1.0, [-1, 0.18517023530803453]),\n",
       " (1.0, [-1, 0.29575572361128927]),\n",
       " (-1.0, [1, 0.9530087259877738]),\n",
       " (-1.0, [-1, 1.2248239374442178e-06]),\n",
       " (-1.0, [-1, 1.8327199422583087e-07]),\n",
       " (-1.0, [-1, 0.004410098646685087]),\n",
       " (-1.0, [1, 0.6409965206976946]),\n",
       " (1.0, [1, 0.9503507879707521]),\n",
       " (-1.0, [-1, 2.5504867759106143e-05]),\n",
       " (-1.0, [1, 0.6145631307763129]),\n",
       " (-1.0, [-1, 0.01305353261290533]),\n",
       " (-1.0, [-1, 0.0089609189743191]),\n",
       " (-1.0, [-1, 0.046365091979560465]),\n",
       " (-1.0, [-1, 0.33583811010847536]),\n",
       " (-1.0, [-1, 0.49170079605477524]),\n",
       " (1.0, [1, 0.9702158589882948]),\n",
       " (1.0, [1, 0.7194658472924693]),\n",
       " (-1.0, [-1, 0.10645047993612813]),\n",
       " (-1.0, [-1, 1.5791272860431303e-15]),\n",
       " (-1.0, [-1, 0.20382115429327452]),\n",
       " (-1.0, [-1, 0.011954993357531711]),\n",
       " (-1.0, [-1, 0.14968641464929403]),\n",
       " (-1.0, [-1, 0.27863140434014494]),\n",
       " (1.0, [-1, 0.0015756460198482404]),\n",
       " (-1.0, [1, 0.5015625759321226]),\n",
       " (-1.0, [1, 0.9245900742902283]),\n",
       " (-1.0, [-1, 0.08946937464330958]),\n",
       " (-1.0, [-1, 0.060020584809117275]),\n",
       " (-1.0, [-1, 4.4128865045860425e-17]),\n",
       " (1.0, [-1, 0.27475254267684257]),\n",
       " (1.0, [-1, 0.4813149770021954]),\n",
       " (-1.0, [1, 0.6929180268714729]),\n",
       " (-1.0, [1, 0.9903586866782712]),\n",
       " (1.0, [-1, 0.23396592760891335]),\n",
       " (-1.0, [-1, 0.24695653883700275]),\n",
       " (-1.0, [-1, 0.06797019220462741]),\n",
       " (-1.0, [-1, 4.67906743462288e-06]),\n",
       " (-1.0, [-1, 0.2845777926445127]),\n",
       " (-1.0, [-1, 0.10361487114485103]),\n",
       " (1.0, [1, 0.7873140768983908]),\n",
       " (-1.0, [-1, 0.19536548880585977]),\n",
       " (1.0, [-1, 0.23810923336662965]),\n",
       " (-1.0, [-1, 0.07572172924004206]),\n",
       " (-1.0, [-1, 0.014739637223897569]),\n",
       " (-1.0, [1, 0.5074661324133141]),\n",
       " (-1.0, [-1, 0.0262659662622133]),\n",
       " (1.0, [1, 0.6917616116376865]),\n",
       " (1.0, [1, 0.5890187051191459]),\n",
       " (1.0, [1, 0.9492577351020213]),\n",
       " (-1.0, [-1, 0.17821081782147277]),\n",
       " (-1.0, [-1, 0.017122540297044]),\n",
       " (-1.0, [-1, 0.00011342382984534347]),\n",
       " (1.0, [1, 0.9927647520162692]),\n",
       " (1.0, [1, 0.8667443731738522]),\n",
       " (-1.0, [-1, 3.9009273090605115e-10]),\n",
       " (-1.0, [-1, 1.5541885566345036e-07]),\n",
       " (1.0, [-1, 0.09856345073828046]),\n",
       " (-1.0, [-1, 0.011822063178716343]),\n",
       " (1.0, [-1, 0.10574830074036559]),\n",
       " (-1.0, [-1, 0.308826200684492]),\n",
       " (-1.0, [-1, 0.019356801704776543]),\n",
       " (-1.0, [-1, 0.1734898963383679]),\n",
       " (-1.0, [-1, 0.21611629696517415]),\n",
       " (-1.0, [1, 0.7630777071451494]),\n",
       " (-1.0, [-1, 0.0005413410594193719]),\n",
       " (-1.0, [1, 0.6124719354776258]),\n",
       " (1.0, [1, 0.6888371154961019]),\n",
       " (-1.0, [1, 0.5357922669248274]),\n",
       " (-1.0, [-1, 4.451674038823473e-08]),\n",
       " (-1.0, [-1, 4.704334267061284e-05]),\n",
       " (1.0, [-1, 0.29583225762893256]),\n",
       " (-1.0, [-1, 0.3941811382636685]),\n",
       " (-1.0, [1, 0.837642658662263]),\n",
       " (-1.0, [-1, 0.00010480995613237505]),\n",
       " (1.0, [-1, 0.22275050982379735]),\n",
       " (-1.0, [-1, 0.055338103938722974]),\n",
       " (-1.0, [-1, 0.043488611650773126]),\n",
       " (-1.0, [1, 0.7751013041723468]),\n",
       " (-1.0, [-1, 0.2800022782822677]),\n",
       " (1.0, [-1, 0.1027543026794867]),\n",
       " (-1.0, [1, 0.6940836197491255]),\n",
       " (-1.0, [-1, 0.297833791788648]),\n",
       " (-1.0, [-1, 0.02547306192065177]),\n",
       " (-1.0, [-1, 0.013221767894202645]),\n",
       " (-1.0, [-1, 0.2116400516963281]),\n",
       " (-1.0, [1, 0.8444407608400426]),\n",
       " (-1.0, [-1, 0.020632596048429038]),\n",
       " (-1.0, [-1, 0.0010411481804662801]),\n",
       " (-1.0, [-1, 9.84560687718641e-06]),\n",
       " (-1.0, [1, 0.8600171861620751]),\n",
       " (-1.0, [-1, 0.0031943142692289392]),\n",
       " (-1.0, [-1, 0.00658167687782001]),\n",
       " (1.0, [-1, 0.13284720513955836])]"
      ]
     },
     "execution_count": 317,
     "metadata": {},
     "output_type": "execute_result"
    }
   ],
   "source": [
    "labelsAndPredsGD.collect()"
   ]
  },
  {
   "cell_type": "code",
   "execution_count": 251,
   "metadata": {},
   "outputs": [],
   "source": [
    "unscaled = imputedToyDF.rdd.map(lambda x: (x[0], Vectors.dense(x[1:]))).toDF(['label', 'features'])"
   ]
  },
  {
   "cell_type": "code",
   "execution_count": 322,
   "metadata": {},
   "outputs": [
    {
     "name": "stdout",
     "output_type": "stream",
     "text": [
      "Coefficients: [-0.00559714314200757,-0.9592173866111241,-0.507017161414367,-0.23574585103151433,-4.196084377928534,0.21818790026078716,-1.3096033690182187,0.11420849152375381,-0.8488370911672432,0.5724655338688336,1.2403306475972142,-2.8320295060769443,0.3528221459517509]\n",
      "Intercept: -2.574777393550733\n"
     ]
    }
   ],
   "source": [
    "#test MLLib Logistic Regression\n",
    "from pyspark.ml.classification import LogisticRegression\n",
    "\n",
    "lr = LogisticRegression(maxIter=150, regParam=0, elasticNetParam=1)\n",
    "lrModel = lr.fit(scaledToyDF)\n",
    "print(\"Coefficients: \" + str(lrModel.coefficients))\n",
    "print(\"Intercept: \" + str(lrModel.intercept))"
   ]
  },
  {
   "cell_type": "code",
   "execution_count": 323,
   "metadata": {},
   "outputs": [
    {
     "data": {
      "text/plain": [
       "array([-2.57477739, -0.00559714, -0.95921739, -0.50701716, -0.23574585,\n",
       "       -4.19608438,  0.2181879 , -1.30960337,  0.11420849, -0.84883709,\n",
       "        0.57246553,  1.24033065, -2.83202951,  0.35282215])"
      ]
     },
     "execution_count": 323,
     "metadata": {},
     "output_type": "execute_result"
    }
   ],
   "source": [
    "mllibmodel = np.append(np.array(lrModel.intercept),np.array(lrModel.coefficients))\n",
    "mllibmodel"
   ]
  },
  {
   "cell_type": "code",
   "execution_count": 324,
   "metadata": {},
   "outputs": [
    {
     "name": "stdout",
     "output_type": "stream",
     "text": [
      "0.17\n"
     ]
    }
   ],
   "source": [
    "labelsAndPredsMLLib2 = augmentedData.map(lambda x: (x[0], predictionLabel(x[1], mllibmodel)))\n",
    "MLLibtrainErr2 = labelsAndPredsMLLib2.filter(lambda lp: lp[0] != lp[1][0]).count() / float(augmentedData.count())\n",
    "print(MLLibtrainErr2)"
   ]
  },
  {
   "cell_type": "code",
   "execution_count": 325,
   "metadata": {},
   "outputs": [
    {
     "data": {
      "text/plain": [
       "41.44855461619726"
      ]
     },
     "execution_count": 325,
     "metadata": {},
     "output_type": "execute_result"
    }
   ],
   "source": [
    "LRLoss_Standard(scaledToyRDD, mllibmodel)"
   ]
  },
  {
   "cell_type": "code",
   "execution_count": 326,
   "metadata": {},
   "outputs": [
    {
     "data": {
      "text/plain": [
       "41.560522567984684"
      ]
     },
     "execution_count": 326,
     "metadata": {},
     "output_type": "execute_result"
    }
   ],
   "source": [
    "LogLossToy[149]"
   ]
  },
  {
   "cell_type": "code",
   "execution_count": 327,
   "metadata": {},
   "outputs": [
    {
     "data": {
      "text/plain": [
       "[(-1.0, [-1, 0.15159677280247083]),\n",
       " (-1.0, [-1, 0.09488022401982503]),\n",
       " (1.0, [-1, 0.26107058818711043]),\n",
       " (1.0, [-1, 0.27508358334628996]),\n",
       " (1.0, [-1, 0.3803522188012307]),\n",
       " (-1.0, [-1, 0.3136935734462352]),\n",
       " (-1.0, [-1, 0.31880906976014184]),\n",
       " (-1.0, [-1, 0.024133879957250866]),\n",
       " (1.0, [-1, 0.1283456053101237]),\n",
       " (-1.0, [1, 0.5301673027666687]),\n",
       " (-1.0, [-1, 1.9398553423622847e-07]),\n",
       " (-1.0, [-1, 0.010480564197169905]),\n",
       " (-1.0, [-1, 0.08905285156217714]),\n",
       " (-1.0, [-1, 0.19327301292330934]),\n",
       " (1.0, [-1, 0.4766688862315384]),\n",
       " (-1.0, [-1, 0.001885906279529433]),\n",
       " (-1.0, [-1, 0.1955794147267796]),\n",
       " (-1.0, [-1, 0.03370613933284403]),\n",
       " (-1.0, [-1, 0.1535075288843467]),\n",
       " (-1.0, [-1, 0.04440201713401596]),\n",
       " (-1.0, [-1, 0.08329396249832828]),\n",
       " (-1.0, [-1, 0.3333468243875926]),\n",
       " (1.0, [1, 0.705556717355627]),\n",
       " (1.0, [1, 0.8735342190990348]),\n",
       " (-1.0, [-1, 0.21177082213498877]),\n",
       " (-1.0, [-1, 1.9379130903699473e-17]),\n",
       " (-1.0, [-1, 0.058604066097039366]),\n",
       " (-1.0, [1, 0.6120078299932661]),\n",
       " (-1.0, [-1, 0.2886763912535108]),\n",
       " (-1.0, [-1, 0.13899498885850373]),\n",
       " (1.0, [1, 0.624134734812716]),\n",
       " (-1.0, [-1, 0.23818145972389496]),\n",
       " (-1.0, [-1, 0.45396999440568514]),\n",
       " (-1.0, [-1, 0.18973833267500184]),\n",
       " (-1.0, [-1, 0.007956552437476023]),\n",
       " (-1.0, [-1, 5.153134486922668e-12]),\n",
       " (1.0, [-1, 0.19991790197464446]),\n",
       " (1.0, [-1, 0.21572376258737502]),\n",
       " (-1.0, [-1, 0.35027165623537626]),\n",
       " (-1.0, [1, 0.8733249147752794]),\n",
       " (1.0, [-1, 0.08498445654518921]),\n",
       " (-1.0, [-1, 0.07268923050456652]),\n",
       " (-1.0, [-1, 0.15558937760136007]),\n",
       " (-1.0, [-1, 1.2372447811678956e-06]),\n",
       " (-1.0, [-1, 0.21880238263227958]),\n",
       " (-1.0, [-1, 0.362982506649173]),\n",
       " (1.0, [1, 0.5102008027898456]),\n",
       " (-1.0, [-1, 0.05777594268432903]),\n",
       " (1.0, [-1, 0.24709556175703123]),\n",
       " (-1.0, [-1, 0.1590643547058161]),\n",
       " (-1.0, [-1, 0.15574289792006335]),\n",
       " (-1.0, [-1, 0.28069126741675465]),\n",
       " (-1.0, [-1, 0.040008294258531966]),\n",
       " (1.0, [1, 0.5693791703559553]),\n",
       " (1.0, [1, 0.7083643530165301]),\n",
       " (1.0, [1, 0.7960654255847619]),\n",
       " (-1.0, [-1, 0.1082671533797784]),\n",
       " (-1.0, [-1, 0.1234100205181445]),\n",
       " (-1.0, [-1, 0.12661790642140072]),\n",
       " (1.0, [1, 0.8228919904140067]),\n",
       " (1.0, [1, 0.6228855164374058]),\n",
       " (-1.0, [-1, 1.585544196645667e-05]),\n",
       " (-1.0, [-1, 0.00016328096210805742]),\n",
       " (1.0, [1, 0.7657853331372139]),\n",
       " (-1.0, [-1, 0.0894833613088626]),\n",
       " (1.0, [-1, 0.17387271342214983]),\n",
       " (-1.0, [-1, 0.1801367935460728]),\n",
       " (-1.0, [-1, 0.016330596035532798]),\n",
       " (-1.0, [-1, 0.154620965377544]),\n",
       " (-1.0, [-1, 0.20429362697279027]),\n",
       " (-1.0, [-1, 0.42277955677572115]),\n",
       " (-1.0, [-1, 0.052075041501666856]),\n",
       " (-1.0, [-1, 0.21649909470034592]),\n",
       " (1.0, [1, 0.7514492239855142]),\n",
       " (-1.0, [-1, 0.318019908044069]),\n",
       " (-1.0, [-1, 0.016570939510449235]),\n",
       " (-1.0, [-1, 0.1663676588153163]),\n",
       " (1.0, [1, 0.5023758735936485]),\n",
       " (-1.0, [-1, 0.25966154839094935]),\n",
       " (-1.0, [1, 0.5107652124607326]),\n",
       " (-1.0, [-1, 0.0024090807729345966]),\n",
       " (1.0, [1, 0.5025784252727065]),\n",
       " (-1.0, [-1, 0.23453609656545205]),\n",
       " (-1.0, [-1, 0.07157106907967951]),\n",
       " (-1.0, [-1, 0.365539820676916]),\n",
       " (-1.0, [-1, 0.1688149410486113]),\n",
       " (1.0, [-1, 0.13604187912477234]),\n",
       " (-1.0, [1, 0.6222856552493697]),\n",
       " (-1.0, [-1, 0.19048958446457243]),\n",
       " (-1.0, [-1, 0.194256170573273]),\n",
       " (-1.0, [-1, 0.03315881887461324]),\n",
       " (-1.0, [-1, 0.13062451084793839]),\n",
       " (-1.0, [-1, 0.3414862063115888]),\n",
       " (-1.0, [-1, 0.04526013023023686]),\n",
       " (-1.0, [-1, 0.007896430240659596]),\n",
       " (-1.0, [-1, 0.0002609688580000493]),\n",
       " (-1.0, [-1, 0.4548068575777182]),\n",
       " (-1.0, [-1, 0.001969006386403448]),\n",
       " (-1.0, [-1, 0.11728959053623082]),\n",
       " (1.0, [-1, 0.2182776212300787])]"
      ]
     },
     "execution_count": 327,
     "metadata": {},
     "output_type": "execute_result"
    }
   ],
   "source": [
    "labelsAndPredsMLLib2.collect()"
   ]
  },
  {
   "cell_type": "code",
   "execution_count": 289,
   "metadata": {},
   "outputs": [
    {
     "data": {
      "text/plain": [
       "10.0"
      ]
     },
     "execution_count": 289,
     "metadata": {},
     "output_type": "execute_result"
    }
   ],
   "source": [
    "math.log(math.exp(10))"
   ]
  },
  {
   "cell_type": "code",
   "execution_count": null,
   "metadata": {},
   "outputs": [],
   "source": []
  }
 ],
 "metadata": {
  "kernelspec": {
   "display_name": "Python 3",
   "language": "python",
   "name": "python3"
  },
  "language_info": {
   "codemirror_mode": {
    "name": "ipython",
    "version": 3
   },
   "file_extension": ".py",
   "mimetype": "text/x-python",
   "name": "python",
   "nbconvert_exporter": "python",
   "pygments_lexer": "ipython3",
   "version": "3.6.6"
  }
 },
 "nbformat": 4,
 "nbformat_minor": 2
}
