{
 "cells": [
  {
   "cell_type": "markdown",
   "metadata": {},
   "source": [
    "# w261 Final Project - Clickthrough Rate Prediction\n"
   ]
  },
  {
   "cell_type": "markdown",
   "metadata": {},
   "source": [
    "[Your team number (from the spreadsheet)]   \n",
    "[Your team names]   \n",
    "Summer 2019, section [Your section numbers>]   "
   ]
  },
  {
   "cell_type": "markdown",
   "metadata": {},
   "source": [
    "## Table of Contents\n",
    "\n",
    "* __Section 1__ - Question Formulation\n",
    "* __Section 2__ - Algorithm Explanation\n",
    "* __Section 3__ - EDA & Challenges\n",
    "* __Section 4__ - Algorithm Implementation\n",
    "* __Section 5__ - Course Concepts"
   ]
  },
  {
   "cell_type": "markdown",
   "metadata": {},
   "source": [
    "# __Section 1__ - Question Formulation"
   ]
  },
  {
   "cell_type": "markdown",
   "metadata": {},
   "source": []
  },
  {
   "cell_type": "markdown",
   "metadata": {},
   "source": []
  },
  {
   "cell_type": "markdown",
   "metadata": {},
   "source": [
    "# __Section 2__ - Algorithm Explanation"
   ]
  },
  {
   "cell_type": "markdown",
   "metadata": {},
   "source": []
  },
  {
   "cell_type": "markdown",
   "metadata": {},
   "source": []
  },
  {
   "cell_type": "markdown",
   "metadata": {},
   "source": [
    "# __Section 3__ - EDA & Challenges"
   ]
  },
  {
   "cell_type": "markdown",
   "metadata": {},
   "source": []
  },
  {
   "cell_type": "markdown",
   "metadata": {},
   "source": []
  },
  {
   "cell_type": "markdown",
   "metadata": {},
   "source": [
    "# __Section 4__ - Algorithm Implementation"
   ]
  },
  {
   "cell_type": "markdown",
   "metadata": {},
   "source": []
  },
  {
   "cell_type": "markdown",
   "metadata": {},
   "source": []
  },
  {
   "cell_type": "markdown",
   "metadata": {},
   "source": [
    "# __Section 5__ - Course Concepts"
   ]
  },
  {
   "cell_type": "markdown",
   "metadata": {},
   "source": []
  },
  {
   "cell_type": "markdown",
   "metadata": {},
   "source": []
  },
  {
   "cell_type": "markdown",
   "metadata": {},
   "source": [
    "### Setup and Initiate Spark"
   ]
  },
  {
   "cell_type": "code",
   "execution_count": 1,
   "metadata": {},
   "outputs": [],
   "source": [
    "import re\n",
    "import ast\n",
    "import time\n",
    "import itertools\n",
    "import numpy as np\n",
    "from numpy import allclose\n",
    "import pandas as pd\n",
    "import matplotlib.pyplot as plt\n",
    "from pyspark.sql import Row\n",
    "from pyspark.sql import SQLContext\n",
    "import pyspark.sql.functions as F\n",
    "from pyspark.sql.functions import *\n",
    "from pyspark.ml.classification import  RandomForestClassifier\n",
    "from pyspark.ml.feature import StringIndexer, OneHotEncoderEstimator, VectorAssembler, VectorSlicer\n",
    "from pyspark.ml import Pipeline\n",
    "from pyspark.ml.evaluation import BinaryClassificationEvaluator\n",
    "from pyspark.ml.linalg import Vectors\n",
    "from pyspark.mllib.linalg import SparseVector\n",
    "from pyspark.ml.tuning import ParamGridBuilder, TrainValidationSplit"
   ]
  },
  {
   "cell_type": "code",
   "execution_count": 2,
   "metadata": {},
   "outputs": [],
   "source": [
    "%reload_ext autoreload\n",
    "%autoreload 2\n",
    "%matplotlib inline"
   ]
  },
  {
   "cell_type": "code",
   "execution_count": 3,
   "metadata": {},
   "outputs": [],
   "source": [
    "# store path to notebook\n",
    "PWD = !pwd\n",
    "PWD = PWD[0]"
   ]
  },
  {
   "cell_type": "code",
   "execution_count": 4,
   "metadata": {},
   "outputs": [],
   "source": [
    "# start Spark Session (RUN THIS CELL AS IS)\n",
    "from pyspark.sql import SparkSession\n",
    "app_name = \"hw3_notebook\"\n",
    "master = \"local[*]\"\n",
    "spark = SparkSession\\\n",
    "        .builder\\\n",
    "        .appName(app_name)\\\n",
    "        .master(master)\\\n",
    "        .getOrCreate()\n",
    "sc = spark.sparkContext\n",
    "sqlContext = SQLContext(sc)"
   ]
  },
  {
   "cell_type": "markdown",
   "metadata": {},
   "source": [
    "### Setup Path and read in raw data files"
   ]
  },
  {
   "cell_type": "code",
   "execution_count": 7,
   "metadata": {},
   "outputs": [],
   "source": [
    "# Read the toy data file\n",
    "toy_raw = ast.literal_eval(open(\"data/toy.txt\", \"r\").read())\n",
    "\n",
    "# Read the 10K sample data file for feature extraction and data preparation\n",
    "tenK_raw = ast.literal_eval(open(\"data/eda.txt\", \"r\").read())"
   ]
  },
  {
   "cell_type": "markdown",
   "metadata": {},
   "source": [
    "### Parse Row Into Readable formats"
   ]
  },
  {
   "cell_type": "code",
   "execution_count": 8,
   "metadata": {},
   "outputs": [],
   "source": [
    "def parse_raw_row(row):\n",
    "    '''\n",
    "    for each row in the raw data,  output is a list of label and all the features:\n",
    "        - [label, feature_1, feature_1, ...]\n",
    "    For first 13 features, change the data type to number.\n",
    "    Remaining features will of type string.\n",
    "    For null values, populate None\n",
    "    '''\n",
    "    row_values = row.split('\\t')\n",
    "    for i, value in enumerate(row_values):\n",
    "        if i <14:\n",
    "            row_values[i] = int(value) if value != '' else None\n",
    "        else:\n",
    "            row_values[i] = value if value != '' else \"''\"\n",
    "    return row_values"
   ]
  },
  {
   "cell_type": "code",
   "execution_count": 10,
   "metadata": {},
   "outputs": [],
   "source": [
    "# parse raw toy data to form toyRDD\n",
    "toyRDD = sc.parallelize(toy_raw).map(parse_raw_row).cache()\n",
    "#toyRDD.take(1)\n",
    "\n",
    "# parse raw 10k sample data to form tenKRDD\n",
    "tenKRDD = sc.parallelize(tenK_raw).map(parse_raw_row).cache()"
   ]
  },
  {
   "cell_type": "markdown",
   "metadata": {},
   "source": [
    "## Create Dataframe for Feature Engineering ##"
   ]
  },
  {
   "cell_type": "code",
   "execution_count": 11,
   "metadata": {},
   "outputs": [],
   "source": [
    "#### Create SQL dataframe from RDD\n",
    "\n",
    "# for toy data\n",
    "toyFeature_df = sqlContext.createDataFrame(toyRDD)\n",
    "\n",
    "# for 10K sample data\n",
    "tenKfeature_df = sqlContext.createDataFrame(tenKRDD)"
   ]
  },
  {
   "cell_type": "markdown",
   "metadata": {},
   "source": [
    "## Feature Extraction"
   ]
  },
  {
   "cell_type": "markdown",
   "metadata": {},
   "source": [
    "**1: Remove features with very large number of unknown data**  "
   ]
  },
  {
   "cell_type": "markdown",
   "metadata": {},
   "source": [
    "From EDA we see that the below feature columns have more than 40% null values.  \n",
    "Due to this high percenage of unknown data we won't keep these features in our model. So dropping these columns from our data frame."
   ]
  },
  {
   "cell_type": "code",
   "execution_count": 12,
   "metadata": {},
   "outputs": [
    {
     "name": "stdout",
     "output_type": "stream",
     "text": [
      "+---+---+---+---+---+---+---+---+---+---+---+--------+--------+--------+--------+--------+--------+--------+--------+--------+--------+--------+--------+--------+--------+--------+--------+--------+--------+--------+--------+--------+\n",
      "| _1| _3| _4| _5| _6| _7| _8| _9|_10|_12|_14|     _15|     _16|     _17|     _18|     _19|     _20|     _21|     _22|     _23|     _24|     _25|     _26|     _27|     _28|     _29|     _30|     _31|     _32|     _35|     _37|     _38|\n",
      "+---+---+---+---+---+---+---+---+---+---+---+--------+--------+--------+--------+--------+--------+--------+--------+--------+--------+--------+--------+--------+--------+--------+--------+--------+--------+--------+--------+--------+\n",
      "|  0|  6|  3| 34|  4| 27|  3| 33| 34|  1| 15|05db9164|028bd518|77f2f2e5|d16679b9|25c83c98|fbad5c96|2ecb612f|5b392875|a73ee510|3b08e48b|4efc1873|9f32b866|f15f3681|b28479f6|9559bea6|31ca40b6|07c540c4|2a40f0da|dfcfc3fa|32c7478e|aee52b6f|\n",
      "+---+---+---+---+---+---+---+---+---+---+---+--------+--------+--------+--------+--------+--------+--------+--------+--------+--------+--------+--------+--------+--------+--------+--------+--------+--------+--------+--------+--------+\n",
      "only showing top 1 row\n",
      "\n"
     ]
    }
   ],
   "source": [
    "# drop features with high unknown values\n",
    "\n",
    "toy_df1 = toyFeature_df.drop('_13','_36','_2','_11','_33','_34','_39','_40')\n",
    "tenK_df1 = tenKfeature_df.drop('_13','_36','_2','_11','_33','_34','_39','_40')\n",
    "\n",
    "tenK_df1.show(1)"
   ]
  },
  {
   "cell_type": "markdown",
   "metadata": {},
   "source": [
    "**2. Remove Categorical features with high % of Uniqueness of Categories**  "
   ]
  },
  {
   "cell_type": "markdown",
   "metadata": {},
   "source": [
    "From EDA, we see that for the following categorical features uniqueness is more than 50%. When uniqueness of a feature is more than 50% it should not be having much impact on label prediction. So will remove those columns from our model.  \n",
    "_17, _18, _21, _24, _26, _30, _35"
   ]
  },
  {
   "cell_type": "code",
   "execution_count": 13,
   "metadata": {},
   "outputs": [
    {
     "name": "stdout",
     "output_type": "stream",
     "text": [
      "+---+---+---+---+---+---+---+---+---+---+---+--------+--------+--------+--------+--------+--------+--------+--------+--------+--------+--------+--------+--------+--------+\n",
      "| _1| _3| _4| _5| _6| _7| _8| _9|_10|_12|_14|     _15|     _16|     _19|     _20|     _22|     _23|     _25|     _27|     _28|     _29|     _31|     _32|     _37|     _38|\n",
      "+---+---+---+---+---+---+---+---+---+---+---+--------+--------+--------+--------+--------+--------+--------+--------+--------+--------+--------+--------+--------+--------+\n",
      "|  0|  6|  3| 34|  4| 27|  3| 33| 34|  1| 15|05db9164|028bd518|25c83c98|fbad5c96|5b392875|a73ee510|4efc1873|f15f3681|b28479f6|9559bea6|07c540c4|2a40f0da|32c7478e|aee52b6f|\n",
      "+---+---+---+---+---+---+---+---+---+---+---+--------+--------+--------+--------+--------+--------+--------+--------+--------+--------+--------+--------+--------+--------+\n",
      "only showing top 1 row\n",
      "\n"
     ]
    }
   ],
   "source": [
    "toy_df2 = toy_df1.drop('_17','_18','_21','_24','_26','_30','_35')\n",
    "tenK_df2 = tenK_df1.drop('_17','_18','_21','_24','_26','_30','_35')\n",
    "tenK_df2.show(1)"
   ]
  },
  {
   "cell_type": "markdown",
   "metadata": {},
   "source": [
    "**3. Colenearity Reduction**  "
   ]
  },
  {
   "cell_type": "markdown",
   "metadata": {},
   "source": [
    "EDA shows strong correlation between below numerical features:  \n",
    "> _5 and _14  \n",
    "> _5 and _9  \n",
    "> _9 and _14  \n",
    "> _8 and _12  \n",
    "There is also a moderate negative correlation for feature:  \n",
    "> _6 and _11  \n",
    "> _7 and _11.  \n",
    "To avoid co-leniarity we will remove feature _14, _9, _6, _7 and _8"
   ]
  },
  {
   "cell_type": "code",
   "execution_count": 14,
   "metadata": {},
   "outputs": [
    {
     "name": "stdout",
     "output_type": "stream",
     "text": [
      "+---+---+---+---+---+---+---+---+---+---+---+--------+--------+--------+--------+--------+--------+--------+--------+--------+--------+--------+--------+--------+--------+\n",
      "| _1| _3| _4| _5| _6| _7| _8| _9|_10|_12|_14|     _15|     _16|     _19|     _20|     _22|     _23|     _25|     _27|     _28|     _29|     _31|     _32|     _37|     _38|\n",
      "+---+---+---+---+---+---+---+---+---+---+---+--------+--------+--------+--------+--------+--------+--------+--------+--------+--------+--------+--------+--------+--------+\n",
      "|  0|  6|  3| 34|  4| 27|  3| 33| 34|  1| 15|05db9164|028bd518|25c83c98|fbad5c96|5b392875|a73ee510|4efc1873|f15f3681|b28479f6|9559bea6|07c540c4|2a40f0da|32c7478e|aee52b6f|\n",
      "+---+---+---+---+---+---+---+---+---+---+---+--------+--------+--------+--------+--------+--------+--------+--------+--------+--------+--------+--------+--------+--------+\n",
      "only showing top 1 row\n",
      "\n"
     ]
    }
   ],
   "source": [
    "toy_df3 = toy_df2.drop('_17','_18','_21','_24','_26','_30','_35')\n",
    "tenK_df3 = tenK_df2.drop('_17','_18','_21','_24','_26','_30','_35')\n",
    "tenK_df3.show(1)"
   ]
  },
  {
   "cell_type": "markdown",
   "metadata": {},
   "source": [
    "**4. Replace null values in numerical variables with mean**"
   ]
  },
  {
   "cell_type": "code",
   "execution_count": 15,
   "metadata": {},
   "outputs": [],
   "source": [
    "def fill_with_mean(this_df):\n",
    "\n",
    "    '''\n",
    "    replace None value in Numerical variables with mean value\n",
    "    '''\n",
    "    stats = this_df.agg(*(avg(c).alias(c) for i,c in enumerate(this_df.columns) if i<11 and c != '_1'))\n",
    "    return this_df.na.fill(stats.first().asDict())\n"
   ]
  },
  {
   "cell_type": "code",
   "execution_count": 17,
   "metadata": {},
   "outputs": [
    {
     "name": "stdout",
     "output_type": "stream",
     "text": [
      "+---+---+---+---+---+---+---+---+---+---+---+--------+--------+--------+--------+--------+--------+--------+--------+--------+--------+--------+--------+--------+--------+\n",
      "|_1 |_3 |_4 |_5 |_6 |_7 |_8 |_9 |_10|_12|_14|_15     |_16     |_19     |_20     |_22     |_23     |_25     |_27     |_28     |_29     |_31     |_32     |_37     |_38     |\n",
      "+---+---+---+---+---+---+---+---+---+---+---+--------+--------+--------+--------+--------+--------+--------+--------+--------+--------+--------+--------+--------+--------+\n",
      "|0  |6  |3  |34 |4  |27 |3  |33 |34 |1  |15 |05db9164|028bd518|25c83c98|fbad5c96|5b392875|a73ee510|4efc1873|f15f3681|b28479f6|9559bea6|07c540c4|2a40f0da|32c7478e|aee52b6f|\n",
      "+---+---+---+---+---+---+---+---+---+---+---+--------+--------+--------+--------+--------+--------+--------+--------+--------+--------+--------+--------+--------+--------+\n",
      "only showing top 1 row\n",
      "\n"
     ]
    }
   ],
   "source": [
    "tenK_df4 = fill_with_mean(tenK_df3)\n",
    "tenK_df4.cache()\n",
    "tenK_df4.show(1,False)"
   ]
  },
  {
   "cell_type": "markdown",
   "metadata": {},
   "source": [
    "**5: Binning of Categories**  "
   ]
  },
  {
   "cell_type": "markdown",
   "metadata": {},
   "source": [
    "From EDA we see that amongst remaining categorical features, unique category count for following  are very low.  \n",
    "_23, _20    \n",
    "For rest of the features we will try binning the categories into three distinct features. At the same time converting the feature type to numerical.  \n",
    "Binning is done by checking click through frequency ratio: (count of 1/count of totalfrequency)  \n",
    "If frequency ratio > 0.5, value = \"A\"  \n",
    "0.5> frequency ratio > 0.2, value = \"B\"  \n",
    "Otherwise value = \"C\"\n",
    "\n",
    "For null values populating one of the bin value-s (\"A\", \"B\", \"C\") randomly"
   ]
  },
  {
   "cell_type": "markdown",
   "metadata": {},
   "source": [
    "> Check frequency of unique categories of Categorical Features"
   ]
  },
  {
   "cell_type": "code",
   "execution_count": 18,
   "metadata": {},
   "outputs": [
    {
     "data": {
      "text/plain": [
       "DataFrame[_38: string, _37: string, _32: string, _31: string, _29: string, _28: string, _27: string, _25: string, _22: string, _19: string, _16: string, _15: string, _1: bigint, _3: bigint, _4: bigint, _5: bigint, _6: bigint, _7: bigint, _8: bigint, _9: bigint, _10: bigint, _12: bigint, _14: bigint, _20: string, _23: string]"
      ]
     },
     "execution_count": 18,
     "metadata": {},
     "output_type": "execute_result"
    }
   ],
   "source": [
    "# Calculate click through rate frequency count of each category\n",
    "\n",
    "\n",
    "exclude_list = ['_23', '_20'] #, '_31'\n",
    " \n",
    "tenK_click_df = tenK_df4\n",
    "for n,i in enumerate(tenK_df4.dtypes):\n",
    "\n",
    "    if i[1]=='string' and i[0] not in exclude_list:\n",
    "        \n",
    "        feature = i[0]\n",
    "\n",
    "        # frequency count of unique categories under each feature\n",
    "        cat_freqDF = tenK_df4.groupBy(feature).count()\n",
    "        \n",
    "        # click through frequency count: count of label = 1 for each category\n",
    "        click_freqDF = tenK_df4.where(\"_1 == 1\").groupBy(feature, \"_1\").count()\n",
    "        \n",
    "        \n",
    "        ## Calculate click through frequency ratio for each category:\n",
    "        ##(count of label = 1/total count)\n",
    "        \n",
    "        df1 = click_freqDF.alias('df1')\n",
    "        df2 = cat_freqDF.alias('df2')\n",
    "        if n == 0:\n",
    "            df3 = tenK_df4.alias('df3')\n",
    "        else:\n",
    "            df3 = tenK_click_df.alias('df3')\n",
    "\n",
    "        tenK_click_df = df1.join(df2, [feature]).join(df3, [feature]).select(feature, 'df3.*',\n",
    "                                (df1['count']/df2['count']).alias(feature+\"_click\"))\n",
    "\n",
    "        ## End of click through frequency ratio calculation       \n",
    "        \n",
    "        ###### Bin data into three categories based on the frequency percentage count.\n",
    "        # if frequency % of a category is greather/ equal to 50%, assigned value =30\n",
    "        # if frequency % of a category is greater than 19.99% but less than 50%, value = 20\n",
    "        # for the rest value is 10\n",
    "        tenK_click_df = tenK_click_df.withColumn(feature,\n",
    "        F.when(((tenK_click_df[feature+'_click'] > 0.5)|(tenK_click_df[feature+'_click'] == 0.5))\n",
    "           & (tenK_click_df[feature] != ''),F.lit(\"A\"))\n",
    "        .otherwise(\n",
    "        F.when((tenK_click_df[feature+'_click'] < 0.5) & (tenK_click_df[feature+'_click'] > 0.2)\n",
    "           & (tenK_click_df[feature] != ''),F.lit(\"B\"))\n",
    "        .otherwise(\n",
    "        F.when(tenK_click_df[feature] == '', F.array(F.lit(\"C\"),F.lit(\"B\"),F.lit(\"A\")).getItem((F.rand()*3).cast(\"int\")))\n",
    "        .otherwise(F.lit(\"C\")))))\n",
    "                \n",
    "   \n",
    "        \n",
    "    elif i[0] == '_23':\n",
    "        feature = '_23'\n",
    "        \n",
    "        if n == 0:\n",
    "            temp_df = tenK_df4\n",
    "        else:\n",
    "            temp_df = tenK_click_df\n",
    "\n",
    "        tenK_click_df = temp_df.withColumn(feature,\n",
    "        F.when(temp_df[feature] == 'a73ee510', F.lit(\"A\"))\n",
    "        .otherwise(\n",
    "        F.when(temp_df[feature] == '7cc72ec2', F.lit(\"B\"))\n",
    "        .otherwise(\n",
    "        F.when(temp_df[feature] == '', F.array(F.lit(\"C\"),F.lit(\"B\"),F.lit(\"A\")).getItem((F.rand()*3).cast(\"int\")))\n",
    "        .otherwise(F.lit(\"C\")))))\n",
    "            \n",
    "    elif i[0] == '_20':\n",
    "        feature = '_20'    \n",
    "        \n",
    "        if n == 0:\n",
    "            temp_df = tenK_df4\n",
    "        else:\n",
    "            temp_df = tenK_click_df\n",
    "            \n",
    "        tenK_click_df = temp_df.withColumn(feature,\n",
    "        F.when(temp_df[feature] == '7e0ccccf', F.lit(\"A\"))\n",
    "        .otherwise(\n",
    "        F.when(temp_df[feature] == ('fbad5c96'), F.lit(\"B\"))\n",
    "        .otherwise(\n",
    "        F.when(temp_df[feature] == ('fe6b92e5'), F.lit(\"C\"))\n",
    "        .otherwise(\n",
    "        F.when(temp_df[feature] == '',\n",
    "                F.array(F.lit(\"C\"),F.lit(\"B\"),F.lit(\"A\"),F.lit(\"D\")).getItem((F.rand()*4).cast(\"int\")))\n",
    "        .otherwise(F.lit(\"D\"))))))\n",
    "\n",
    "tenK_df5 = tenK_click_df.drop('_15_click','_16_click','_19_click','_22_click','_25_click','_27_click',\n",
    "                             '_28_click','_29_click', '_31_click', '_32_click', '_37_click', '_38_click')\n",
    "tenK_df5.cache()"
   ]
  },
  {
   "cell_type": "code",
   "execution_count": 19,
   "metadata": {},
   "outputs": [
    {
     "name": "stdout",
     "output_type": "stream",
     "text": [
      "+---+---+---+---+---+---+---+---+---+---+---+---+---+---+---+---+------+---+---+---+----+---+---+---+---+\n",
      "|_38|_37|_32|_31|_29|_28|_27|_25|_22|_19|_16|_15|_1 |_3 |_4 |_5 |_6    |_7 |_8 |_9 |_10 |_12|_14|_20|_23|\n",
      "+---+---+---+---+---+---+---+---+---+---+---+---+---+---+---+---+------+---+---+---+----+---+---+---+---+\n",
      "|A  |B  |B  |B  |B  |B  |C  |C  |B  |B  |C  |B  |1  |0  |2  |2  |13140 |638|7  |20 |600 |4  |8  |B  |A  |\n",
      "|A  |B  |A  |B  |A  |B  |B  |B  |B  |B  |B  |B  |1  |3  |1  |1  |6396  |11 |15 |1  |147 |7  |1  |B  |A  |\n",
      "|A  |C  |B  |C  |C  |B  |A  |A  |B  |B  |B  |B  |1  |79 |37 |7  |678   |111|0  |15 |15  |0  |8  |A  |A  |\n",
      "|B  |C  |B  |B  |B  |B  |B  |B  |B  |B  |B  |A  |1  |30 |33 |7  |3720  |4  |98 |0  |86  |10 |8  |A  |A  |\n",
      "|B  |B  |B  |B  |B  |B  |B  |A  |B  |B  |B  |B  |0  |9  |2  |10 |1248  |19 |2  |14 |16  |1  |13 |C  |A  |\n",
      "|B  |B  |B  |B  |B  |B  |B  |B  |B  |B  |B  |B  |0  |10 |60 |20 |0     |177|48 |29 |191 |9  |0  |D  |A  |\n",
      "|B  |B  |B  |B  |B  |B  |A  |A  |B  |B  |B  |B  |1  |215|33 |1  |8     |0  |19 |2  |144 |5  |0  |A  |A  |\n",
      "|B  |B  |B  |B  |B  |B  |B  |B  |B  |B  |B  |B  |0  |39 |35 |26 |0     |0  |70 |20 |610 |7  |0  |B  |A  |\n",
      "|B  |B  |B  |B  |B  |B  |B  |B  |B  |B  |B  |B  |1  |0  |6  |11 |285   |41 |10 |20 |367 |5  |29 |B  |A  |\n",
      "|C  |B  |C  |C  |B  |B  |B  |B  |B  |B  |C  |B  |1  |1  |1  |7  |1707  |111|0  |2  |4   |0  |8  |A  |A  |\n",
      "|C  |C  |C  |B  |C  |B  |B  |B  |B  |B  |C  |B  |0  |1  |7  |2  |387118|111|0  |2  |5   |0  |2  |B  |B  |\n",
      "|C  |B  |C  |B  |C  |B  |C  |C  |B  |B  |C  |B  |0  |4  |92 |5  |18108 |348|1  |5  |214 |1  |5  |A  |A  |\n",
      "|C  |B  |C  |B  |C  |B  |B  |B  |B  |B  |C  |C  |0  |2  |13 |12 |46    |17 |5  |12 |60  |2  |12 |D  |A  |\n",
      "|C  |B  |B  |B  |B  |B  |B  |B  |B  |B  |B  |B  |0  |1  |36 |4  |30    |69 |5  |14 |50  |2  |4  |A  |A  |\n",
      "|C  |B  |B  |B  |B  |B  |A  |A  |B  |B  |B  |B  |0  |41 |10 |21 |1463  |315|4  |22 |208 |1  |35 |A  |A  |\n",
      "|C  |B  |B  |B  |B  |B  |C  |C  |B  |B  |B  |B  |0  |1  |20 |8  |92    |36 |10 |25 |27  |3  |20 |D  |A  |\n",
      "|C  |B  |B  |B  |C  |B  |C  |C  |B  |B  |B  |B  |0  |0  |33 |7  |14999 |59 |19 |1  |59  |2  |8  |A  |A  |\n",
      "|C  |B  |B  |B  |B  |B  |C  |C  |B  |B  |B  |B  |0  |0  |3  |1  |13135 |11 |1  |10 |11  |1  |1  |A  |A  |\n",
      "|C  |B  |B  |B  |C  |B  |B  |B  |B  |B  |B  |B  |0  |1  |6  |4  |1500  |7  |3  |6  |7   |3  |4  |A  |A  |\n",
      "|C  |B  |B  |B  |B  |B  |C  |C  |B  |B  |B  |B  |0  |0  |2  |3  |10114 |238|17 |1  |1071|7  |8  |A  |A  |\n",
      "+---+---+---+---+---+---+---+---+---+---+---+---+---+---+---+---+------+---+---+---+----+---+---+---+---+\n",
      "only showing top 20 rows\n",
      "\n"
     ]
    }
   ],
   "source": [
    "tenK_df5.show(20,False)"
   ]
  },
  {
   "cell_type": "markdown",
   "metadata": {},
   "source": [
    "**6: Run RandomForest ensemble to check featureImportances**:  \n",
    "With remaining features we will run RandomForest ensemble classifier to check featureImportances matrices.  \n",
    "We will extract the Features with higher featureImportances scores for our model.  \n"
   ]
  },
  {
   "cell_type": "code",
   "execution_count": 20,
   "metadata": {},
   "outputs": [],
   "source": [
    "# One hot encoding and assembling using Random Forest Classifier\n",
    "\n",
    "encoding_var = [i[0] for i in tenK_df5.dtypes if (i[1]=='string')]\n",
    "num_var = [i[0] for i in tenK_df5.dtypes if (i[1]!='string') & (i[0]!= '_1')]\n",
    "\n",
    "string_indexes = [StringIndexer(inputCol = c, outputCol = 'IDX_' + c, handleInvalid = 'keep')\n",
    "                  for c in encoding_var]\n",
    "onehot_indexes = [OneHotEncoderEstimator(inputCols = ['IDX_' + c], outputCols = ['OHE_' + c])\n",
    "                  for c in encoding_var]\n",
    "label_indexes = StringIndexer(inputCol = '_1', outputCol = 'label', handleInvalid = 'keep')\n",
    "assembler = VectorAssembler(inputCols = num_var + ['OHE_' + c for c in encoding_var]\n",
    "                            , outputCol = \"features\")\n",
    "rf = RandomForestClassifier(labelCol=\"label\", featuresCol=\"features\", seed = 8464,\n",
    "                             numTrees=10, cacheNodeIds = True, subsamplingRate = 0.7)\n",
    "\n",
    "pipe = Pipeline(stages = string_indexes + onehot_indexes + [assembler, label_indexes, rf])"
   ]
  },
  {
   "cell_type": "code",
   "execution_count": 21,
   "metadata": {},
   "outputs": [],
   "source": [
    "## fit into pipe\n",
    "\n",
    "mod = pipe.fit(tenK_df5)\n",
    "tenK_df6 = mod.transform(tenK_df5)\n",
    "#mod.stages[-1].featureImportances"
   ]
  },
  {
   "cell_type": "code",
   "execution_count": 22,
   "metadata": {},
   "outputs": [],
   "source": [
    "def ExtractFeatureImp(featureImp, dataset, featuresCol):\n",
    "    '''\n",
    "    Function to display featureImportances in human readable format\n",
    "    '''\n",
    "    list_extract = []\n",
    "    for i in dataset.schema[featuresCol].metadata[\"ml_attr\"][\"attrs\"]:\n",
    "        list_extract = list_extract + dataset.schema[featuresCol].metadata[\"ml_attr\"][\"attrs\"][i]\n",
    "    varlist = pd.DataFrame(list_extract)\n",
    "    varlist['score'] = varlist['idx'].apply(lambda x: featureImp[x])\n",
    "    return(varlist.sort_values('score', ascending = False))"
   ]
  },
  {
   "cell_type": "code",
   "execution_count": 23,
   "metadata": {},
   "outputs": [
    {
     "data": {
      "text/html": [
       "<div>\n",
       "<style scoped>\n",
       "    .dataframe tbody tr th:only-of-type {\n",
       "        vertical-align: middle;\n",
       "    }\n",
       "\n",
       "    .dataframe tbody tr th {\n",
       "        vertical-align: top;\n",
       "    }\n",
       "\n",
       "    .dataframe thead th {\n",
       "        text-align: right;\n",
       "    }\n",
       "</style>\n",
       "<table border=\"1\" class=\"dataframe\">\n",
       "  <thead>\n",
       "    <tr style=\"text-align: right;\">\n",
       "      <th></th>\n",
       "      <th>idx</th>\n",
       "      <th>name</th>\n",
       "      <th>score</th>\n",
       "    </tr>\n",
       "  </thead>\n",
       "  <tbody>\n",
       "    <tr>\n",
       "      <th>12</th>\n",
       "      <td>12</td>\n",
       "      <td>OHE__38_A</td>\n",
       "      <td>0.228731</td>\n",
       "    </tr>\n",
       "    <tr>\n",
       "      <th>4</th>\n",
       "      <td>4</td>\n",
       "      <td>_7</td>\n",
       "      <td>0.135129</td>\n",
       "    </tr>\n",
       "    <tr>\n",
       "      <th>23</th>\n",
       "      <td>23</td>\n",
       "      <td>OHE__29_A</td>\n",
       "      <td>0.118916</td>\n",
       "    </tr>\n",
       "    <tr>\n",
       "      <th>32</th>\n",
       "      <td>32</td>\n",
       "      <td>OHE__25_A</td>\n",
       "      <td>0.094095</td>\n",
       "    </tr>\n",
       "    <tr>\n",
       "      <th>29</th>\n",
       "      <td>29</td>\n",
       "      <td>OHE__27_A</td>\n",
       "      <td>0.087833</td>\n",
       "    </tr>\n",
       "    <tr>\n",
       "      <th>22</th>\n",
       "      <td>22</td>\n",
       "      <td>OHE__29_C</td>\n",
       "      <td>0.050605</td>\n",
       "    </tr>\n",
       "    <tr>\n",
       "      <th>11</th>\n",
       "      <td>11</td>\n",
       "      <td>OHE__38_C</td>\n",
       "      <td>0.046733</td>\n",
       "    </tr>\n",
       "    <tr>\n",
       "      <th>31</th>\n",
       "      <td>31</td>\n",
       "      <td>OHE__25_C</td>\n",
       "      <td>0.037637</td>\n",
       "    </tr>\n",
       "    <tr>\n",
       "      <th>18</th>\n",
       "      <td>18</td>\n",
       "      <td>OHE__32_A</td>\n",
       "      <td>0.037563</td>\n",
       "    </tr>\n",
       "    <tr>\n",
       "      <th>3</th>\n",
       "      <td>3</td>\n",
       "      <td>_6</td>\n",
       "      <td>0.033223</td>\n",
       "    </tr>\n",
       "    <tr>\n",
       "      <th>17</th>\n",
       "      <td>17</td>\n",
       "      <td>OHE__32_C</td>\n",
       "      <td>0.017470</td>\n",
       "    </tr>\n",
       "    <tr>\n",
       "      <th>9</th>\n",
       "      <td>9</td>\n",
       "      <td>_14</td>\n",
       "      <td>0.016320</td>\n",
       "    </tr>\n",
       "    <tr>\n",
       "      <th>27</th>\n",
       "      <td>27</td>\n",
       "      <td>OHE__27_B</td>\n",
       "      <td>0.014243</td>\n",
       "    </tr>\n",
       "    <tr>\n",
       "      <th>6</th>\n",
       "      <td>6</td>\n",
       "      <td>_9</td>\n",
       "      <td>0.009545</td>\n",
       "    </tr>\n",
       "    <tr>\n",
       "      <th>8</th>\n",
       "      <td>8</td>\n",
       "      <td>_12</td>\n",
       "      <td>0.009533</td>\n",
       "    </tr>\n",
       "    <tr>\n",
       "      <th>30</th>\n",
       "      <td>30</td>\n",
       "      <td>OHE__25_B</td>\n",
       "      <td>0.009299</td>\n",
       "    </tr>\n",
       "    <tr>\n",
       "      <th>16</th>\n",
       "      <td>16</td>\n",
       "      <td>OHE__32_B</td>\n",
       "      <td>0.006476</td>\n",
       "    </tr>\n",
       "    <tr>\n",
       "      <th>41</th>\n",
       "      <td>41</td>\n",
       "      <td>OHE__16_A</td>\n",
       "      <td>0.005366</td>\n",
       "    </tr>\n",
       "    <tr>\n",
       "      <th>1</th>\n",
       "      <td>1</td>\n",
       "      <td>_4</td>\n",
       "      <td>0.004776</td>\n",
       "    </tr>\n",
       "    <tr>\n",
       "      <th>28</th>\n",
       "      <td>28</td>\n",
       "      <td>OHE__27_C</td>\n",
       "      <td>0.004518</td>\n",
       "    </tr>\n",
       "    <tr>\n",
       "      <th>7</th>\n",
       "      <td>7</td>\n",
       "      <td>_10</td>\n",
       "      <td>0.003733</td>\n",
       "    </tr>\n",
       "    <tr>\n",
       "      <th>5</th>\n",
       "      <td>5</td>\n",
       "      <td>_8</td>\n",
       "      <td>0.003587</td>\n",
       "    </tr>\n",
       "    <tr>\n",
       "      <th>21</th>\n",
       "      <td>21</td>\n",
       "      <td>OHE__29_B</td>\n",
       "      <td>0.003582</td>\n",
       "    </tr>\n",
       "    <tr>\n",
       "      <th>0</th>\n",
       "      <td>0</td>\n",
       "      <td>_3</td>\n",
       "      <td>0.003530</td>\n",
       "    </tr>\n",
       "    <tr>\n",
       "      <th>2</th>\n",
       "      <td>2</td>\n",
       "      <td>_5</td>\n",
       "      <td>0.002776</td>\n",
       "    </tr>\n",
       "    <tr>\n",
       "      <th>13</th>\n",
       "      <td>13</td>\n",
       "      <td>OHE__37_B</td>\n",
       "      <td>0.002122</td>\n",
       "    </tr>\n",
       "    <tr>\n",
       "      <th>49</th>\n",
       "      <td>49</td>\n",
       "      <td>OHE__23_A</td>\n",
       "      <td>0.001579</td>\n",
       "    </tr>\n",
       "    <tr>\n",
       "      <th>10</th>\n",
       "      <td>10</td>\n",
       "      <td>OHE__38_B</td>\n",
       "      <td>0.001325</td>\n",
       "    </tr>\n",
       "    <tr>\n",
       "      <th>24</th>\n",
       "      <td>24</td>\n",
       "      <td>OHE__28_B</td>\n",
       "      <td>0.001309</td>\n",
       "    </tr>\n",
       "    <tr>\n",
       "      <th>45</th>\n",
       "      <td>45</td>\n",
       "      <td>OHE__20_A</td>\n",
       "      <td>0.001150</td>\n",
       "    </tr>\n",
       "    <tr>\n",
       "      <th>43</th>\n",
       "      <td>43</td>\n",
       "      <td>OHE__15_C</td>\n",
       "      <td>0.001009</td>\n",
       "    </tr>\n",
       "    <tr>\n",
       "      <th>40</th>\n",
       "      <td>40</td>\n",
       "      <td>OHE__16_C</td>\n",
       "      <td>0.000953</td>\n",
       "    </tr>\n",
       "    <tr>\n",
       "      <th>39</th>\n",
       "      <td>39</td>\n",
       "      <td>OHE__16_B</td>\n",
       "      <td>0.000927</td>\n",
       "    </tr>\n",
       "    <tr>\n",
       "      <th>44</th>\n",
       "      <td>44</td>\n",
       "      <td>OHE__15_A</td>\n",
       "      <td>0.000783</td>\n",
       "    </tr>\n",
       "    <tr>\n",
       "      <th>34</th>\n",
       "      <td>34</td>\n",
       "      <td>OHE__22_C</td>\n",
       "      <td>0.000650</td>\n",
       "    </tr>\n",
       "    <tr>\n",
       "      <th>20</th>\n",
       "      <td>20</td>\n",
       "      <td>OHE__31_C</td>\n",
       "      <td>0.000599</td>\n",
       "    </tr>\n",
       "    <tr>\n",
       "      <th>50</th>\n",
       "      <td>50</td>\n",
       "      <td>OHE__23_B</td>\n",
       "      <td>0.000587</td>\n",
       "    </tr>\n",
       "    <tr>\n",
       "      <th>14</th>\n",
       "      <td>14</td>\n",
       "      <td>OHE__37_C</td>\n",
       "      <td>0.000458</td>\n",
       "    </tr>\n",
       "    <tr>\n",
       "      <th>47</th>\n",
       "      <td>47</td>\n",
       "      <td>OHE__20_D</td>\n",
       "      <td>0.000441</td>\n",
       "    </tr>\n",
       "    <tr>\n",
       "      <th>48</th>\n",
       "      <td>48</td>\n",
       "      <td>OHE__20_C</td>\n",
       "      <td>0.000334</td>\n",
       "    </tr>\n",
       "    <tr>\n",
       "      <th>38</th>\n",
       "      <td>38</td>\n",
       "      <td>OHE__19_A</td>\n",
       "      <td>0.000274</td>\n",
       "    </tr>\n",
       "    <tr>\n",
       "      <th>42</th>\n",
       "      <td>42</td>\n",
       "      <td>OHE__15_B</td>\n",
       "      <td>0.000237</td>\n",
       "    </tr>\n",
       "    <tr>\n",
       "      <th>46</th>\n",
       "      <td>46</td>\n",
       "      <td>OHE__20_B</td>\n",
       "      <td>0.000045</td>\n",
       "    </tr>\n",
       "    <tr>\n",
       "      <th>37</th>\n",
       "      <td>37</td>\n",
       "      <td>OHE__19_C</td>\n",
       "      <td>0.000000</td>\n",
       "    </tr>\n",
       "    <tr>\n",
       "      <th>36</th>\n",
       "      <td>36</td>\n",
       "      <td>OHE__19_B</td>\n",
       "      <td>0.000000</td>\n",
       "    </tr>\n",
       "    <tr>\n",
       "      <th>35</th>\n",
       "      <td>35</td>\n",
       "      <td>OHE__22_A</td>\n",
       "      <td>0.000000</td>\n",
       "    </tr>\n",
       "    <tr>\n",
       "      <th>33</th>\n",
       "      <td>33</td>\n",
       "      <td>OHE__22_B</td>\n",
       "      <td>0.000000</td>\n",
       "    </tr>\n",
       "    <tr>\n",
       "      <th>26</th>\n",
       "      <td>26</td>\n",
       "      <td>OHE__28_A</td>\n",
       "      <td>0.000000</td>\n",
       "    </tr>\n",
       "    <tr>\n",
       "      <th>19</th>\n",
       "      <td>19</td>\n",
       "      <td>OHE__31_B</td>\n",
       "      <td>0.000000</td>\n",
       "    </tr>\n",
       "    <tr>\n",
       "      <th>15</th>\n",
       "      <td>15</td>\n",
       "      <td>OHE__37_A</td>\n",
       "      <td>0.000000</td>\n",
       "    </tr>\n",
       "    <tr>\n",
       "      <th>25</th>\n",
       "      <td>25</td>\n",
       "      <td>OHE__28_C</td>\n",
       "      <td>0.000000</td>\n",
       "    </tr>\n",
       "  </tbody>\n",
       "</table>\n",
       "</div>"
      ],
      "text/plain": [
       "    idx       name     score\n",
       "12   12  OHE__38_A  0.228731\n",
       "4     4         _7  0.135129\n",
       "23   23  OHE__29_A  0.118916\n",
       "32   32  OHE__25_A  0.094095\n",
       "29   29  OHE__27_A  0.087833\n",
       "22   22  OHE__29_C  0.050605\n",
       "11   11  OHE__38_C  0.046733\n",
       "31   31  OHE__25_C  0.037637\n",
       "18   18  OHE__32_A  0.037563\n",
       "3     3         _6  0.033223\n",
       "17   17  OHE__32_C  0.017470\n",
       "9     9        _14  0.016320\n",
       "27   27  OHE__27_B  0.014243\n",
       "6     6         _9  0.009545\n",
       "8     8        _12  0.009533\n",
       "30   30  OHE__25_B  0.009299\n",
       "16   16  OHE__32_B  0.006476\n",
       "41   41  OHE__16_A  0.005366\n",
       "1     1         _4  0.004776\n",
       "28   28  OHE__27_C  0.004518\n",
       "7     7        _10  0.003733\n",
       "5     5         _8  0.003587\n",
       "21   21  OHE__29_B  0.003582\n",
       "0     0         _3  0.003530\n",
       "2     2         _5  0.002776\n",
       "13   13  OHE__37_B  0.002122\n",
       "49   49  OHE__23_A  0.001579\n",
       "10   10  OHE__38_B  0.001325\n",
       "24   24  OHE__28_B  0.001309\n",
       "45   45  OHE__20_A  0.001150\n",
       "43   43  OHE__15_C  0.001009\n",
       "40   40  OHE__16_C  0.000953\n",
       "39   39  OHE__16_B  0.000927\n",
       "44   44  OHE__15_A  0.000783\n",
       "34   34  OHE__22_C  0.000650\n",
       "20   20  OHE__31_C  0.000599\n",
       "50   50  OHE__23_B  0.000587\n",
       "14   14  OHE__37_C  0.000458\n",
       "47   47  OHE__20_D  0.000441\n",
       "48   48  OHE__20_C  0.000334\n",
       "38   38  OHE__19_A  0.000274\n",
       "42   42  OHE__15_B  0.000237\n",
       "46   46  OHE__20_B  0.000045\n",
       "37   37  OHE__19_C  0.000000\n",
       "36   36  OHE__19_B  0.000000\n",
       "35   35  OHE__22_A  0.000000\n",
       "33   33  OHE__22_B  0.000000\n",
       "26   26  OHE__28_A  0.000000\n",
       "19   19  OHE__31_B  0.000000\n",
       "15   15  OHE__37_A  0.000000\n",
       "25   25  OHE__28_C  0.000000"
      ]
     },
     "execution_count": 23,
     "metadata": {},
     "output_type": "execute_result"
    }
   ],
   "source": [
    "### Print featureImportance of each feature\n",
    "ExtractFeatureImp(mod.stages[-1].featureImportances, tenK_df6, \"features\")"
   ]
  },
  {
   "cell_type": "code",
   "execution_count": null,
   "metadata": {},
   "outputs": [],
   "source": []
  }
 ],
 "metadata": {
  "kernelspec": {
   "display_name": "Python 3",
   "language": "python",
   "name": "python3"
  },
  "language_info": {
   "codemirror_mode": {
    "name": "ipython",
    "version": 3
   },
   "file_extension": ".py",
   "mimetype": "text/x-python",
   "name": "python",
   "nbconvert_exporter": "python",
   "pygments_lexer": "ipython3",
   "version": "3.6.6"
  }
 },
 "nbformat": 4,
 "nbformat_minor": 2
}
