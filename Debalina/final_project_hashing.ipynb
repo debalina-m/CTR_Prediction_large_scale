{
 "cells": [
  {
   "cell_type": "markdown",
   "metadata": {},
   "source": [
    "# w261 Final Project - Clickthrough Rate Prediction\n"
   ]
  },
  {
   "cell_type": "markdown",
   "metadata": {},
   "source": [
    "[Your team number (from the spreadsheet)]   \n",
    "[Your team names]   \n",
    "Summer 2019, section [Your section numbers>]   "
   ]
  },
  {
   "cell_type": "markdown",
   "metadata": {},
   "source": [
    "## Table of Contents\n",
    "\n",
    "* __Section 1__ - Question Formulation\n",
    "* __Section 2__ - Algorithm Explanation\n",
    "* __Section 3__ - EDA & Challenges\n",
    "* __Section 4__ - Algorithm Implementation\n",
    "* __Section 5__ - Course Concepts"
   ]
  },
  {
   "cell_type": "markdown",
   "metadata": {},
   "source": [
    "# __Section 1__ - Question Formulation"
   ]
  },
  {
   "cell_type": "markdown",
   "metadata": {},
   "source": []
  },
  {
   "cell_type": "markdown",
   "metadata": {},
   "source": []
  },
  {
   "cell_type": "markdown",
   "metadata": {},
   "source": [
    "# __Section 2__ - Algorithm Explanation"
   ]
  },
  {
   "cell_type": "markdown",
   "metadata": {},
   "source": []
  },
  {
   "cell_type": "markdown",
   "metadata": {},
   "source": []
  },
  {
   "cell_type": "markdown",
   "metadata": {},
   "source": [
    "# __Section 3__ - EDA & Challenges"
   ]
  },
  {
   "cell_type": "markdown",
   "metadata": {},
   "source": []
  },
  {
   "cell_type": "markdown",
   "metadata": {},
   "source": []
  },
  {
   "cell_type": "markdown",
   "metadata": {},
   "source": [
    "# __Section 4__ - Algorithm Implementation"
   ]
  },
  {
   "cell_type": "markdown",
   "metadata": {},
   "source": []
  },
  {
   "cell_type": "markdown",
   "metadata": {},
   "source": []
  },
  {
   "cell_type": "markdown",
   "metadata": {},
   "source": [
    "# __Section 5__ - Course Concepts"
   ]
  },
  {
   "cell_type": "markdown",
   "metadata": {},
   "source": []
  },
  {
   "cell_type": "markdown",
   "metadata": {},
   "source": []
  },
  {
   "cell_type": "markdown",
   "metadata": {},
   "source": [
    "### Setup and Initiate Spark"
   ]
  },
  {
   "cell_type": "code",
   "execution_count": 1,
   "metadata": {},
   "outputs": [],
   "source": [
    "import re\n",
    "import ast\n",
    "import time\n",
    "import itertools\n",
    "import numpy as np\n",
    "import pandas as pd\n",
    "import matplotlib.pyplot as plt\n",
    "from pyspark.sql import Row"
   ]
  },
  {
   "cell_type": "code",
   "execution_count": 2,
   "metadata": {},
   "outputs": [],
   "source": [
    "%reload_ext autoreload\n",
    "%autoreload 2\n",
    "%matplotlib inline"
   ]
  },
  {
   "cell_type": "code",
   "execution_count": 3,
   "metadata": {},
   "outputs": [],
   "source": [
    "# store path to notebook\n",
    "PWD = !pwd\n",
    "PWD = PWD[0]"
   ]
  },
  {
   "cell_type": "code",
   "execution_count": 4,
   "metadata": {},
   "outputs": [],
   "source": [
    "# start Spark Session (RUN THIS CELL AS IS)\n",
    "from pyspark.sql import SparkSession\n",
    "app_name = \"hw3_notebook\"\n",
    "master = \"local[*]\"\n",
    "spark = SparkSession\\\n",
    "        .builder\\\n",
    "        .appName(app_name)\\\n",
    "        .master(master)\\\n",
    "        .getOrCreate()\n",
    "sc = spark.sparkContext"
   ]
  },
  {
   "cell_type": "code",
   "execution_count": 5,
   "metadata": {},
   "outputs": [
    {
     "data": {
      "text/plain": [
       "[('spark.app.id', 'local-1564320575509'),\n",
       " ('spark.driver.port', '43701'),\n",
       " ('spark.app.name', 'hw3_notebook'),\n",
       " ('spark.rdd.compress', 'True'),\n",
       " ('spark.serializer.objectStreamReset', '100'),\n",
       " ('spark.master', 'local[*]'),\n",
       " ('spark.executor.id', 'driver'),\n",
       " ('spark.submit.deployMode', 'client'),\n",
       " ('spark.ui.showConsoleProgress', 'true'),\n",
       " ('spark.driver.host', 'docker.w261')]"
      ]
     },
     "execution_count": 5,
     "metadata": {},
     "output_type": "execute_result"
    }
   ],
   "source": [
    "# Spark configuration Information (RUN THIS CELL AS IS)\n",
    "sc.getConf().getAll()"
   ]
  },
  {
   "cell_type": "markdown",
   "metadata": {},
   "source": [
    "### Setup Path and read in raw data files"
   ]
  },
  {
   "cell_type": "code",
   "execution_count": 6,
   "metadata": {},
   "outputs": [],
   "source": [
    "raw_test = PWD + '/data/test.txt'\n",
    "raw_train = PWD + '/data/train.txt'"
   ]
  },
  {
   "cell_type": "code",
   "execution_count": 7,
   "metadata": {},
   "outputs": [],
   "source": [
    "# raw_test = 'gs://deb-261/FinalProj/data/test.txt'\n",
    "# raw_train = 'gs://deb-261/FinalProj/data/test.txt'"
   ]
  },
  {
   "cell_type": "code",
   "execution_count": 8,
   "metadata": {},
   "outputs": [],
   "source": [
    "rawTestRDD = sc.textFile(raw_test)\n",
    "rawTrainRDD = sc.textFile(raw_train)"
   ]
  },
  {
   "cell_type": "markdown",
   "metadata": {},
   "source": [
    "### Check Row Counts"
   ]
  },
  {
   "cell_type": "code",
   "execution_count": 9,
   "metadata": {},
   "outputs": [
    {
     "data": {
      "text/plain": [
       "6042135"
      ]
     },
     "execution_count": 9,
     "metadata": {},
     "output_type": "execute_result"
    }
   ],
   "source": [
    "rawTestRDD.count()\n",
    "#6042135"
   ]
  },
  {
   "cell_type": "code",
   "execution_count": 9,
   "metadata": {},
   "outputs": [
    {
     "data": {
      "text/plain": [
       "45840617"
      ]
     },
     "execution_count": 9,
     "metadata": {},
     "output_type": "execute_result"
    }
   ],
   "source": [
    "rawTrainRDD.count()\n",
    "#45840617"
   ]
  },
  {
   "cell_type": "markdown",
   "metadata": {},
   "source": [
    "### Parse Row Into Readable formats"
   ]
  },
  {
   "cell_type": "code",
   "execution_count": 10,
   "metadata": {},
   "outputs": [],
   "source": [
    "def parse_raw_row(row):\n",
    "    '''\n",
    "    for each row in the raw data,  outputs the following tuple:\n",
    "        - (label, features_vector)\n",
    "        where features_vector is comma separated string of features\n",
    "        features with no value are replaced by empty string ''\n",
    "    '''\n",
    "    row_values = row.split('\\t')\n",
    "    new_values = [value if value != '' else \"''\" for value in row_values[1:]]\n",
    "    output_string = \",\".join(new_values)\n",
    "    return (row_values[0], output_string)"
   ]
  },
  {
   "cell_type": "markdown",
   "metadata": {},
   "source": [
    "### Testing Parse Function"
   ]
  },
  {
   "cell_type": "code",
   "execution_count": 11,
   "metadata": {},
   "outputs": [
    {
     "data": {
      "text/plain": [
       "['0\\t1\\t1\\t5\\t0\\t1382\\t4\\t15\\t2\\t181\\t1\\t2\\t\\t2\\t68fd1e64\\t80e26c9b\\tfb936136\\t7b4723c4\\t25c83c98\\t7e0ccccf\\tde7995b8\\t1f89b562\\ta73ee510\\ta8cd5504\\tb2cb9c98\\t37c9c164\\t2824a5f6\\t1adce6ef\\t8ba8b39a\\t891b62e7\\te5ba7672\\tf54016b9\\t21ddcdc9\\tb1252a9d\\t07b5194c\\t\\t3a171ecb\\tc5c50484\\te8b83407\\t9727dd16',\n",
       " '0\\t2\\t0\\t44\\t1\\t102\\t8\\t2\\t2\\t4\\t1\\t1\\t\\t4\\t68fd1e64\\tf0cf0024\\t6f67f7e5\\t41274cd7\\t25c83c98\\tfe6b92e5\\t922afcc0\\t0b153874\\ta73ee510\\t2b53e5fb\\t4f1b46f3\\t623049e6\\td7020589\\tb28479f6\\te6c5b5cd\\tc92f3b61\\t07c540c4\\tb04e4670\\t21ddcdc9\\t5840adea\\t60f6221e\\t\\t3a171ecb\\t43f13e8b\\te8b83407\\t731c3655']"
      ]
     },
     "execution_count": 11,
     "metadata": {},
     "output_type": "execute_result"
    }
   ],
   "source": [
    "rawTrainRDD.take(2)"
   ]
  },
  {
   "cell_type": "code",
   "execution_count": 12,
   "metadata": {},
   "outputs": [
    {
     "data": {
      "text/plain": [
       "['0\\t1\\t1\\t5\\t0\\t1382\\t4\\t15\\t2\\t181\\t1\\t2\\t\\t2\\t68fd1e64\\t80e26c9b\\tfb936136\\t7b4723c4\\t25c83c98\\t7e0ccccf\\tde7995b8\\t1f89b562\\ta73ee510\\ta8cd5504\\tb2cb9c98\\t37c9c164\\t2824a5f6\\t1adce6ef\\t8ba8b39a\\t891b62e7\\te5ba7672\\tf54016b9\\t21ddcdc9\\tb1252a9d\\t07b5194c\\t\\t3a171ecb\\tc5c50484\\te8b83407\\t9727dd16',\n",
       " '0\\t2\\t0\\t44\\t1\\t102\\t8\\t2\\t2\\t4\\t1\\t1\\t\\t4\\t68fd1e64\\tf0cf0024\\t6f67f7e5\\t41274cd7\\t25c83c98\\tfe6b92e5\\t922afcc0\\t0b153874\\ta73ee510\\t2b53e5fb\\t4f1b46f3\\t623049e6\\td7020589\\tb28479f6\\te6c5b5cd\\tc92f3b61\\t07c540c4\\tb04e4670\\t21ddcdc9\\t5840adea\\t60f6221e\\t\\t3a171ecb\\t43f13e8b\\te8b83407\\t731c3655',\n",
       " '0\\t2\\t0\\t1\\t14\\t767\\t89\\t4\\t2\\t245\\t1\\t3\\t3\\t45\\t287e684f\\t0a519c5c\\t02cf9876\\tc18be181\\t25c83c98\\t7e0ccccf\\tc78204a1\\t0b153874\\ta73ee510\\t3b08e48b\\t5f5e6091\\t8fe001f4\\taa655a2f\\t07d13a8f\\t6dc710ed\\t36103458\\t8efede7f\\t3412118d\\t\\t\\te587c466\\tad3062eb\\t3a171ecb\\t3b183c5c\\t\\t',\n",
       " '0\\t\\t893\\t\\t\\t4392\\t\\t0\\t0\\t0\\t\\t0\\t\\t\\t68fd1e64\\t2c16a946\\ta9a87e68\\t2e17d6f6\\t25c83c98\\tfe6b92e5\\t2e8a689b\\t0b153874\\ta73ee510\\tefea433b\\te51ddf94\\ta30567ca\\t3516f6e6\\t07d13a8f\\t18231224\\t52b8680f\\t1e88c74f\\t74ef3502\\t\\t\\t6b3a5ca6\\t\\t3a171ecb\\t9117a34a\\t\\t',\n",
       " '0\\t3\\t-1\\t\\t0\\t2\\t0\\t3\\t0\\t0\\t1\\t1\\t\\t0\\t8cf07265\\tae46a29d\\tc81688bb\\tf922efad\\t25c83c98\\t13718bbd\\tad9fa255\\t0b153874\\ta73ee510\\t5282c137\\te5d8af57\\t66a76a26\\tf06c53ac\\t1adce6ef\\t8ff4b403\\t01adbab4\\t1e88c74f\\t26b3c7a7\\t\\t\\t21c9516a\\t\\t32c7478e\\tb34f3128\\t\\t']"
      ]
     },
     "execution_count": 12,
     "metadata": {},
     "output_type": "execute_result"
    }
   ],
   "source": [
    "example = rawTrainRDD.take(5)\n",
    "exampleRDD=sc.parallelize(example)\n",
    "exampleRDD.collect()"
   ]
  },
  {
   "cell_type": "code",
   "execution_count": 13,
   "metadata": {},
   "outputs": [
    {
     "data": {
      "text/plain": [
       "[('0',\n",
       "  \"1,1,5,0,1382,4,15,2,181,1,2,'',2,68fd1e64,80e26c9b,fb936136,7b4723c4,25c83c98,7e0ccccf,de7995b8,1f89b562,a73ee510,a8cd5504,b2cb9c98,37c9c164,2824a5f6,1adce6ef,8ba8b39a,891b62e7,e5ba7672,f54016b9,21ddcdc9,b1252a9d,07b5194c,'',3a171ecb,c5c50484,e8b83407,9727dd16\"),\n",
       " ('0',\n",
       "  \"2,0,44,1,102,8,2,2,4,1,1,'',4,68fd1e64,f0cf0024,6f67f7e5,41274cd7,25c83c98,fe6b92e5,922afcc0,0b153874,a73ee510,2b53e5fb,4f1b46f3,623049e6,d7020589,b28479f6,e6c5b5cd,c92f3b61,07c540c4,b04e4670,21ddcdc9,5840adea,60f6221e,'',3a171ecb,43f13e8b,e8b83407,731c3655\"),\n",
       " ('0',\n",
       "  \"2,0,1,14,767,89,4,2,245,1,3,3,45,287e684f,0a519c5c,02cf9876,c18be181,25c83c98,7e0ccccf,c78204a1,0b153874,a73ee510,3b08e48b,5f5e6091,8fe001f4,aa655a2f,07d13a8f,6dc710ed,36103458,8efede7f,3412118d,'','',e587c466,ad3062eb,3a171ecb,3b183c5c,'',''\"),\n",
       " ('0',\n",
       "  \"'',893,'','',4392,'',0,0,0,'',0,'','',68fd1e64,2c16a946,a9a87e68,2e17d6f6,25c83c98,fe6b92e5,2e8a689b,0b153874,a73ee510,efea433b,e51ddf94,a30567ca,3516f6e6,07d13a8f,18231224,52b8680f,1e88c74f,74ef3502,'','',6b3a5ca6,'',3a171ecb,9117a34a,'',''\"),\n",
       " ('0',\n",
       "  \"3,-1,'',0,2,0,3,0,0,1,1,'',0,8cf07265,ae46a29d,c81688bb,f922efad,25c83c98,13718bbd,ad9fa255,0b153874,a73ee510,5282c137,e5d8af57,66a76a26,f06c53ac,1adce6ef,8ff4b403,01adbab4,1e88c74f,26b3c7a7,'','',21c9516a,'',32c7478e,b34f3128,'',''\")]"
      ]
     },
     "execution_count": 13,
     "metadata": {},
     "output_type": "execute_result"
    }
   ],
   "source": [
    "exampleRDD.map(parse_raw_row).collect()"
   ]
  },
  {
   "cell_type": "markdown",
   "metadata": {},
   "source": [
    "### Creating Parsed Data Sets from Raw Training and Test data"
   ]
  },
  {
   "cell_type": "code",
   "execution_count": 14,
   "metadata": {},
   "outputs": [
    {
     "name": "stdout",
     "output_type": "stream",
     "text": [
      "\n",
      "... parsed raw data rows in 0.09914064407348633 seconds\n"
     ]
    }
   ],
   "source": [
    "start = time.time()\n",
    "parsedTrainRDD = rawTrainRDD.map(parse_raw_row).cache()\n",
    "parsedTestRDD = rawTestRDD.map(parse_raw_row).cache()\n",
    "print(f\"\\n... parsed raw data rows in {time.time() - start} seconds\")"
   ]
  },
  {
   "cell_type": "markdown",
   "metadata": {},
   "source": [
    "### Split Training data into Train, Dev, Test subsets"
   ]
  },
  {
   "cell_type": "code",
   "execution_count": 15,
   "metadata": {},
   "outputs": [],
   "source": [
    "trainRDD, devRDD, testRDD = parsedTrainRDD.randomSplit([0.8,0.1, 0.1], seed = 2018)"
   ]
  },
  {
   "cell_type": "code",
   "execution_count": 16,
   "metadata": {},
   "outputs": [
    {
     "data": {
      "text/plain": [
       "[('0',\n",
       "  \"2,0,44,1,102,8,2,2,4,1,1,'',4,68fd1e64,f0cf0024,6f67f7e5,41274cd7,25c83c98,fe6b92e5,922afcc0,0b153874,a73ee510,2b53e5fb,4f1b46f3,623049e6,d7020589,b28479f6,e6c5b5cd,c92f3b61,07c540c4,b04e4670,21ddcdc9,5840adea,60f6221e,'',3a171ecb,43f13e8b,e8b83407,731c3655\"),\n",
       " ('0',\n",
       "  \"2,0,1,14,767,89,4,2,245,1,3,3,45,287e684f,0a519c5c,02cf9876,c18be181,25c83c98,7e0ccccf,c78204a1,0b153874,a73ee510,3b08e48b,5f5e6091,8fe001f4,aa655a2f,07d13a8f,6dc710ed,36103458,8efede7f,3412118d,'','',e587c466,ad3062eb,3a171ecb,3b183c5c,'',''\"),\n",
       " ('0',\n",
       "  \"'',893,'','',4392,'',0,0,0,'',0,'','',68fd1e64,2c16a946,a9a87e68,2e17d6f6,25c83c98,fe6b92e5,2e8a689b,0b153874,a73ee510,efea433b,e51ddf94,a30567ca,3516f6e6,07d13a8f,18231224,52b8680f,1e88c74f,74ef3502,'','',6b3a5ca6,'',3a171ecb,9117a34a,'',''\"),\n",
       " ('0',\n",
       "  \"3,-1,'',0,2,0,3,0,0,1,1,'',0,8cf07265,ae46a29d,c81688bb,f922efad,25c83c98,13718bbd,ad9fa255,0b153874,a73ee510,5282c137,e5d8af57,66a76a26,f06c53ac,1adce6ef,8ff4b403,01adbab4,1e88c74f,26b3c7a7,'','',21c9516a,'',32c7478e,b34f3128,'',''\"),\n",
       " ('0',\n",
       "  \"'',-1,'','',12824,'',0,0,6,'',0,'','',05db9164,6c9c9cf3,2730ec9c,5400db8b,43b19349,6f6d9be8,53b5f978,0b153874,a73ee510,3b08e48b,91e8fc27,be45b877,9ff13f22,07d13a8f,06969a20,9bc7fff5,776ce399,92555263,'','',242bb710,8ec974f4,be7c41b4,72c78f11,'',''\")]"
      ]
     },
     "execution_count": 16,
     "metadata": {},
     "output_type": "execute_result"
    }
   ],
   "source": [
    "trainRDD.take(5)"
   ]
  },
  {
   "cell_type": "code",
   "execution_count": 16,
   "metadata": {},
   "outputs": [
    {
     "data": {
      "text/plain": [
       "[('0',\n",
       "  \"1,1,5,0,1382,4,15,2,181,1,2,'',2,68fd1e64,80e26c9b,fb936136,7b4723c4,25c83c98,7e0ccccf,de7995b8,1f89b562,a73ee510,a8cd5504,b2cb9c98,37c9c164,2824a5f6,1adce6ef,8ba8b39a,891b62e7,e5ba7672,f54016b9,21ddcdc9,b1252a9d,07b5194c,'',3a171ecb,c5c50484,e8b83407,9727dd16\"),\n",
       " ('0',\n",
       "  \"0,1,80,0,1848,287,1,4,46,0,1,'',4,05db9164,09e68b86,13b87f72,13a91973,25c83c98,7e0ccccf,cc5ed2f1,0b153874,a73ee510,3b08e48b,081c279a,d25f00b6,9f16a973,07d13a8f,36721ddc,1746d357,d4bb7bd8,5aed7436,a153cea2,a458ea53,dd37e0d1,'',32c7478e,c70a58f2,e8b83407,af7ece63\"),\n",
       " ('0',\n",
       "  \"4,0,55,8,859,13,4,12,13,1,1,'',8,05db9164,e5fb1af3,4b644986,5dbf0cc5,25c83c98,'',cc5ed2f1,0b153874,a73ee510,3b08e48b,facf05cc,6d89b6a5,9f16a973,cfef1c29,1e744fde,2bd32e5c,776ce399,13145934,21ddcdc9,a458ea53,1419c3fc,'',32c7478e,8ecc176a,e8b83407,a70a038a\"),\n",
       " ('0',\n",
       "  \"8,0,15,20,115,24,8,23,24,2,2,'',20,5a9ed9b0,c66fca21,78171040,373c404a,25c83c98,'',8ff6f5af,0b153874,a73ee510,5ba575e7,b5a9f90e,6766a7f0,949ea585,1adce6ef,8736735c,59974c9c,8efede7f,1304f63b,21ddcdc9,b1252a9d,07b2853e,'',32c7478e,94bde4f2,010f6491,09b76f8d\"),\n",
       " ('0',\n",
       "  \"31,17,2,11,290,23,31,23,65,2,2,'',11,05db9164,4f25e98b,03280284,5214fda3,25c83c98,fbad5c96,0c41b6a1,0b153874,a73ee510,fa642b71,4ba74619,60bab41d,879fa878,07d13a8f,5be89da3,b6acbd10,e5ba7672,bc5a0ff7,fae651c5,a458ea53,3792328c,c0061c6d,423fab69,7a8e7ed6,001f3601,f159b6cb\")]"
      ]
     },
     "execution_count": 16,
     "metadata": {},
     "output_type": "execute_result"
    }
   ],
   "source": [
    "devRDD.take(5)"
   ]
  },
  {
   "cell_type": "code",
   "execution_count": 17,
   "metadata": {},
   "outputs": [
    {
     "data": {
      "text/plain": [
       "[('1',\n",
       "  \"0,-1,'','',1465,0,17,0,4,0,4,'','',241546e0,38a947a1,fa673455,6a14f9b9,25c83c98,fe6b92e5,1c86e0eb,1f89b562,a73ee510,e7ba2569,755e4a50,208d9687,5978055e,07d13a8f,5182f694,f8b34416,e5ba7672,e5f8f18f,'','',f3ddd519,'',32c7478e,b34f3128,'',''\"),\n",
       " ('0',\n",
       "  \"0,-1,'','',4894,20,1,7,20,0,1,'','',05db9164,4c2bc594,d032c263,c18be181,43b19349,7e0ccccf,7f52e00f,0b153874,a73ee510,48a4f593,bca79aeb,dfbb09fb,5218d824,8ceecbc8,7ac43a46,84898b2a,07c540c4,bc48b783,'','',0014c32a,c9d4222a,3a171ecb,3b183c5c,'',''\"),\n",
       " ('0',\n",
       "  \"0,190,'','',1624,6,29,6,74,0,9,'','',68fd1e64,c41a84c8,0a266224,759c4a2e,25c83c98,'',804d2f11,0b153874,a73ee510,2860ede1,1aa6cf31,99dfd83a,3b03d76e,b28479f6,e3eb97c7,62b5674b,e5ba7672,5911fc7e,'','',28ee216d,'',32c7478e,590b856f,'',''\"),\n",
       " ('0',\n",
       "  \"39,8,42,32,27,33,39,24,32,1,1,'',32,05db9164,73a46ff0,844ce0a4,9bb11257,4cf72387,7e0ccccf,ff3f3dda,0fb392dd,a73ee510,3b08e48b,e2217f93,1d0b8187,da9ee8bd,1adce6ef,d57668e2,4372eb4b,e5ba7672,da507f45,21ddcdc9,5840adea,ecb5cd6f,'',32c7478e,6dbd889f,ea9a246c,33ced911\"),\n",
       " ('1',\n",
       "  \"'',0,11,3,16184,125,2,3,103,'',2,0,3,05db9164,f0cf0024,6f67f7e5,41274cd7,25c83c98,'',94a113a4,0b153874,a73ee510,4ddb41b1,f47e21eb,623049e6,4f3f2bb1,b28479f6,e6c5b5cd,c92f3b61,07c540c4,b04e4670,21ddcdc9,5840adea,60f6221e,'',32c7478e,43f13e8b,ea9a246c,731c3655\")]"
      ]
     },
     "execution_count": 17,
     "metadata": {},
     "output_type": "execute_result"
    }
   ],
   "source": [
    "testRDD.take(5)"
   ]
  },
  {
   "cell_type": "code",
   "execution_count": 18,
   "metadata": {},
   "outputs": [
    {
     "name": "stdout",
     "output_type": "stream",
     "text": [
      "36671527\n",
      "4584772\n",
      "4584318\n"
     ]
    }
   ],
   "source": [
    "#cell for sanity check, takes a while to run (30 min)\n",
    "print(trainRDD.count()) #36671527\n",
    "print(devRDD.count()) #4584772\n",
    "print(testRDD.count()) #4584318"
   ]
  },
  {
   "cell_type": "code",
   "execution_count": 19,
   "metadata": {},
   "outputs": [
    {
     "data": {
      "text/plain": [
       "45840617"
      ]
     },
     "execution_count": 19,
     "metadata": {},
     "output_type": "execute_result"
    }
   ],
   "source": [
    "36671527+4584772+4584318"
   ]
  },
  {
   "cell_type": "code",
   "execution_count": 18,
   "metadata": {},
   "outputs": [],
   "source": [
    "#toyTrain = trainRDD.takeSample(False, 5)"
   ]
  },
  {
   "cell_type": "code",
   "execution_count": 19,
   "metadata": {},
   "outputs": [],
   "source": [
    "## Take toy data set for just 100 samples\n",
    "\n",
    "#toyTrain = trainRDD.takeSample(False, 5)\n",
    "toyTrain = trainRDD.take(10)\n",
    "toytrainRDD = sc.parallelize(toyTrain)"
   ]
  },
  {
   "cell_type": "code",
   "execution_count": 20,
   "metadata": {},
   "outputs": [
    {
     "data": {
      "text/plain": [
       "[('0',\n",
       "  \"2,0,44,1,102,8,2,2,4,1,1,'',4,68fd1e64,f0cf0024,6f67f7e5,41274cd7,25c83c98,fe6b92e5,922afcc0,0b153874,a73ee510,2b53e5fb,4f1b46f3,623049e6,d7020589,b28479f6,e6c5b5cd,c92f3b61,07c540c4,b04e4670,21ddcdc9,5840adea,60f6221e,'',3a171ecb,43f13e8b,e8b83407,731c3655\"),\n",
       " ('0',\n",
       "  \"2,0,1,14,767,89,4,2,245,1,3,3,45,287e684f,0a519c5c,02cf9876,c18be181,25c83c98,7e0ccccf,c78204a1,0b153874,a73ee510,3b08e48b,5f5e6091,8fe001f4,aa655a2f,07d13a8f,6dc710ed,36103458,8efede7f,3412118d,'','',e587c466,ad3062eb,3a171ecb,3b183c5c,'',''\")]"
      ]
     },
     "execution_count": 20,
     "metadata": {},
     "output_type": "execute_result"
    }
   ],
   "source": [
    "toytrainRDD.take(2)"
   ]
  },
  {
   "cell_type": "markdown",
   "metadata": {},
   "source": [
    "## Hash Encode the Feature Vector ##"
   ]
  },
  {
   "cell_type": "code",
   "execution_count": 21,
   "metadata": {},
   "outputs": [],
   "source": [
    "def helper_for_hash(row):\n",
    "    '''\n",
    "    input = row : tuple(label, One string holding all the features separated by comma)\n",
    "    output = tuple(label, list of feature values)\n",
    "    '''\n",
    "    feature = row[1]\n",
    "    lst = feature.split(',')\n",
    "    return (row[0],[lst[i+1] for i in range(len(lst)-1)])"
   ]
  },
  {
   "cell_type": "code",
   "execution_count": 31,
   "metadata": {},
   "outputs": [],
   "source": [
    "import hashlib\n",
    "def hashing(row):\n",
    "    '''\n",
    "    for each row in the raw data, use hashing function\n",
    "    to take care of the categorical variables\n",
    "        input = row : \n",
    "    '''\n",
    "    hash_buckets = 2 ** 26\n",
    "    new_value = []\n",
    "    for value in row[1]:\n",
    "        new_value.append(int(int(hashlib.md5(str(value).encode('utf-8')).hexdigest(), 16) % hash_buckets))\n",
    "    return((row[0], new_value))\n"
   ]
  },
  {
   "cell_type": "code",
   "execution_count": 32,
   "metadata": {},
   "outputs": [],
   "source": [
    "toyTrain = trainRDD.take(100)\n",
    "toytrainRDD = sc.parallelize(toyTrain)"
   ]
  },
  {
   "cell_type": "code",
   "execution_count": 33,
   "metadata": {},
   "outputs": [
    {
     "name": "stdout",
     "output_type": "stream",
     "text": [
      "\n",
      "... toy data hashed in 0.08796501159667969 seconds\n"
     ]
    }
   ],
   "source": [
    "start = time.time()\n",
    "toytrainRDD1 = toytrainRDD.map(lambda x:helper_for_hash(x)).cache()\n",
    "toytrainRDD_hashed = toytrainRDD1.map(lambda x: hashing(x)).cache()\n",
    "print(f\"\\n... toy data hashed in {time.time() - start} seconds\")"
   ]
  },
  {
   "cell_type": "code",
   "execution_count": 34,
   "metadata": {},
   "outputs": [
    {
     "data": {
      "text/plain": [
       "[('0',\n",
       "  [25650394,\n",
       "   53419718,\n",
       "   58033307,\n",
       "   61656670,\n",
       "   25043821,\n",
       "   1345068,\n",
       "   1345068,\n",
       "   21107244,\n",
       "   58033307,\n",
       "   58033307,\n",
       "   47312746,\n",
       "   21107244,\n",
       "   45827163,\n",
       "   12131770,\n",
       "   24281840,\n",
       "   61207377,\n",
       "   41509161,\n",
       "   32253967,\n",
       "   24569265,\n",
       "   12320039,\n",
       "   56793155,\n",
       "   50517202,\n",
       "   42139888,\n",
       "   40939996,\n",
       "   66604463,\n",
       "   55650035,\n",
       "   3936003,\n",
       "   34843665,\n",
       "   26503176,\n",
       "   14002281,\n",
       "   10463523,\n",
       "   4006755,\n",
       "   47847845,\n",
       "   47312746,\n",
       "   21565591,\n",
       "   47786363,\n",
       "   39920753,\n",
       "   11662870]),\n",
       " ('0',\n",
       "  [25650394,\n",
       "   58033307,\n",
       "   33545302,\n",
       "   66914630,\n",
       "   9500470,\n",
       "   21107244,\n",
       "   1345068,\n",
       "   40205719,\n",
       "   58033307,\n",
       "   44546803,\n",
       "   44546803,\n",
       "   27801999,\n",
       "   40438944,\n",
       "   45396177,\n",
       "   7044192,\n",
       "   65064450,\n",
       "   41509161,\n",
       "   61861415,\n",
       "   61718064,\n",
       "   12320039,\n",
       "   56793155,\n",
       "   15214302,\n",
       "   10622483,\n",
       "   44172847,\n",
       "   36579957,\n",
       "   39027416,\n",
       "   16219057,\n",
       "   37339987,\n",
       "   65140142,\n",
       "   54441174,\n",
       "   47312746,\n",
       "   47312746,\n",
       "   25581665,\n",
       "   886458,\n",
       "   21565591,\n",
       "   20857345,\n",
       "   47312746,\n",
       "   47312746])]"
      ]
     },
     "execution_count": 34,
     "metadata": {},
     "output_type": "execute_result"
    }
   ],
   "source": [
    "toytrainRDD_hashed.take(2)"
   ]
  },
  {
   "cell_type": "code",
   "execution_count": null,
   "metadata": {},
   "outputs": [],
   "source": []
  }
 ],
 "metadata": {
  "kernelspec": {
   "display_name": "Python 3",
   "language": "python",
   "name": "python3"
  },
  "language_info": {
   "codemirror_mode": {
    "name": "ipython",
    "version": 3
   },
   "file_extension": ".py",
   "mimetype": "text/x-python",
   "name": "python",
   "nbconvert_exporter": "python",
   "pygments_lexer": "ipython3",
   "version": "3.6.6"
  }
 },
 "nbformat": 4,
 "nbformat_minor": 2
}
